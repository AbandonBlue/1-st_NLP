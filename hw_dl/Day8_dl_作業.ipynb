{
  "nbformat": 4,
  "nbformat_minor": 0,
  "metadata": {
    "kernelspec": {
      "display_name": "Python 3",
      "language": "python",
      "name": "python3"
    },
    "language_info": {
      "codemirror_mode": {
        "name": "ipython",
        "version": 3
      },
      "file_extension": ".py",
      "mimetype": "text/x-python",
      "name": "python",
      "nbconvert_exporter": "python",
      "pygments_lexer": "ipython3",
      "version": "3.7.4"
    },
    "colab": {
      "name": "Day8_dl_作業.ipynb",
      "provenance": []
    }
  },
  "cells": [
    {
      "cell_type": "code",
      "metadata": {
        "id": "8IXVV-D6jtmu"
      },
      "source": [
        "import torch\n",
        "import torch.nn as nn\n",
        "import torchvision.models as models\n",
        "import torch.nn.functional as F\n",
        "import numpy as np"
      ],
      "execution_count": 1,
      "outputs": []
    },
    {
      "cell_type": "markdown",
      "metadata": {
        "id": "N-W2EJ5xjtm5"
      },
      "source": [
        "## 依照指示取出模型特定層的資訊"
      ]
    },
    {
      "cell_type": "code",
      "metadata": {
        "id": "wxABFjUujtm7"
      },
      "source": [
        "# Define model\n",
        "class TheModelClass(nn.Module):\n",
        "    def __init__(self):\n",
        "        super(TheModelClass, self).__init__()\n",
        "        self.conv1 = nn.Conv2d(3, 6, 5)\n",
        "        self.pool = nn.MaxPool2d(2, 2)\n",
        "        self.conv2 = nn.Conv2d(6, 16, 5)\n",
        "        self.fc1 = nn.Linear(16* 5 * 5, 120)\n",
        "        self.fc2 = nn.Linear(120, 84)\n",
        "        self.fc3 = nn.Linear(84, 10)\n",
        "\n",
        "    def forward(self, x):\n",
        "        x = self.pool(F.relu(self.conv1(x)))\n",
        "        x = self.pool(F.relu(self.conv2(x)))\n",
        "        x = x.view(-1, 16 * 5 * 5)\n",
        "        x = F.relu(self.fc1(x))\n",
        "        x = F.relu(self.fc2(x))\n",
        "        x = self.fc3(x)\n",
        "        return x\n",
        "\n",
        "# Initialize model\n",
        "model = TheModelClass()\n"
      ],
      "execution_count": 2,
      "outputs": []
    },
    {
      "cell_type": "markdown",
      "metadata": {
        "id": "3n1qVHgnjtm-"
      },
      "source": [
        "### 取出 self.pool層兩次的輸出，包含：\n",
        "* x = self.pool(F.relu(self.conv1(x)))\n",
        "* x = self.pool(F.relu(self.conv2(x)))"
      ]
    },
    {
      "cell_type": "code",
      "metadata": {
        "colab": {
          "base_uri": "https://localhost:8080/"
        },
        "id": "QRQ39Q1EkYH-",
        "outputId": "5ffbbb6b-540a-41fc-ebf0-889160380d18"
      },
      "source": [
        "model.modules"
      ],
      "execution_count": 8,
      "outputs": [
        {
          "output_type": "execute_result",
          "data": {
            "text/plain": [
              "<bound method Module.modules of TheModelClass(\n",
              "  (conv1): Conv2d(3, 6, kernel_size=(5, 5), stride=(1, 1))\n",
              "  (pool): MaxPool2d(kernel_size=2, stride=2, padding=0, dilation=1, ceil_mode=False)\n",
              "  (conv2): Conv2d(6, 16, kernel_size=(5, 5), stride=(1, 1))\n",
              "  (fc1): Linear(in_features=400, out_features=120, bias=True)\n",
              "  (fc2): Linear(in_features=120, out_features=84, bias=True)\n",
              "  (fc3): Linear(in_features=84, out_features=10, bias=True)\n",
              ")>"
            ]
          },
          "metadata": {
            "tags": []
          },
          "execution_count": 8
        }
      ]
    },
    {
      "cell_type": "code",
      "metadata": {
        "colab": {
          "base_uri": "https://localhost:8080/"
        },
        "id": "hhR-v_F3klGk",
        "outputId": "2d7496ca-462e-462c-ed05-f61ff52282b9"
      },
      "source": [
        "model.conv1"
      ],
      "execution_count": 13,
      "outputs": [
        {
          "output_type": "execute_result",
          "data": {
            "text/plain": [
              "Conv2d(3, 6, kernel_size=(5, 5), stride=(1, 1))"
            ]
          },
          "metadata": {
            "tags": []
          },
          "execution_count": 13
        }
      ]
    },
    {
      "cell_type": "code",
      "metadata": {
        "colab": {
          "base_uri": "https://localhost:8080/"
        },
        "id": "ONtgLjnEk4yF",
        "outputId": "cdeb2e19-69de-4dcc-f0ae-c64963d59f99"
      },
      "source": [
        "model.pool"
      ],
      "execution_count": 15,
      "outputs": [
        {
          "output_type": "execute_result",
          "data": {
            "text/plain": [
              "MaxPool2d(kernel_size=2, stride=2, padding=0, dilation=1, ceil_mode=False)"
            ]
          },
          "metadata": {
            "tags": []
          },
          "execution_count": 15
        }
      ]
    },
    {
      "cell_type": "code",
      "metadata": {
        "colab": {
          "base_uri": "https://localhost:8080/"
        },
        "id": "r6X6kQKmjtnA",
        "outputId": "bcd63c3a-e923-4a6c-b28d-f297a49c3c26"
      },
      "source": [
        "outputs= []\n",
        "def layer1_hook(module, input_, output):\n",
        "    # \"自行填入\"\n",
        "    outputs.append(output)\n",
        "\n",
        "# model.\"自行填入\".register_forward_hook(\"自行填入\")\n",
        "model.pool.register_forward_hook(layer1_hook)"
      ],
      "execution_count": 16,
      "outputs": [
        {
          "output_type": "execute_result",
          "data": {
            "text/plain": [
              "<torch.utils.hooks.RemovableHandle at 0x7fe2834b5910>"
            ]
          },
          "metadata": {
            "tags": []
          },
          "execution_count": 16
        }
      ]
    },
    {
      "cell_type": "code",
      "metadata": {
        "colab": {
          "base_uri": "https://localhost:8080/"
        },
        "id": "gjNzbHyMjtnF",
        "outputId": "a7555e3a-37b5-4491-c7f9-63fafba9a4fa"
      },
      "source": [
        "input_ = torch.randn(1, 3, 32, 32)\n",
        "output = model(input_)"
      ],
      "execution_count": 17,
      "outputs": [
        {
          "output_type": "stream",
          "text": [
            "/usr/local/lib/python3.7/dist-packages/torch/nn/functional.py:718: UserWarning: Named tensors and all their associated APIs are an experimental feature and subject to change. Please do not use them for anything important until they are released as stable. (Triggered internally at  /pytorch/c10/core/TensorImpl.h:1156.)\n",
            "  return torch.max_pool2d(input, kernel_size, stride, padding, dilation, ceil_mode)\n"
          ],
          "name": "stderr"
        }
      ]
    },
    {
      "cell_type": "code",
      "metadata": {
        "colab": {
          "base_uri": "https://localhost:8080/"
        },
        "id": "CrSpEv_KjtnH",
        "outputId": "7ce83ea5-c1f1-4747-c0a4-4eb1bae7083e"
      },
      "source": [
        "outputs"
      ],
      "execution_count": 18,
      "outputs": [
        {
          "output_type": "execute_result",
          "data": {
            "text/plain": [
              "[tensor([[[[0.3194, 0.6774, 0.5921,  ..., 0.2432, 0.8002, 1.1469],\n",
              "           [0.4856, 0.6111, 0.2054,  ..., 0.6191, 1.1787, 0.2914],\n",
              "           [0.3558, 0.0775, 0.8348,  ..., 0.7249, 0.9137, 0.1753],\n",
              "           ...,\n",
              "           [0.0000, 0.6320, 0.4062,  ..., 0.7708, 0.0578, 0.1531],\n",
              "           [0.2052, 0.0967, 0.3755,  ..., 0.4591, 0.6471, 0.4888],\n",
              "           [0.3707, 0.7332, 0.2759,  ..., 0.3470, 0.1903, 0.6998]],\n",
              " \n",
              "          [[0.5715, 0.6722, 0.4968,  ..., 0.7077, 1.1991, 0.9695],\n",
              "           [0.5224, 0.6837, 0.3139,  ..., 0.3582, 0.3796, 0.5480],\n",
              "           [0.5289, 0.7877, 0.5397,  ..., 0.4103, 0.4002, 0.3425],\n",
              "           ...,\n",
              "           [0.5790, 0.4338, 0.5615,  ..., 0.9411, 0.6275, 1.2211],\n",
              "           [0.3543, 0.1732, 0.7864,  ..., 0.1673, 0.8293, 0.2989],\n",
              "           [0.6196, 0.1232, 0.0000,  ..., 0.5943, 1.5508, 0.0816]],\n",
              " \n",
              "          [[0.8624, 1.3004, 1.0335,  ..., 0.7217, 0.5650, 0.9807],\n",
              "           [0.5068, 0.3609, 0.0000,  ..., 0.8510, 0.7099, 0.6308],\n",
              "           [0.2830, 1.1082, 1.2487,  ..., 0.4171, 0.2913, 1.2485],\n",
              "           ...,\n",
              "           [0.3113, 0.4879, 1.4792,  ..., 0.3441, 0.1656, 0.4722],\n",
              "           [1.1860, 1.0674, 0.4151,  ..., 0.8926, 0.4481, 1.1628],\n",
              "           [1.2141, 0.5058, 1.1171,  ..., 0.7111, 0.6000, 0.7452]],\n",
              " \n",
              "          [[0.8499, 0.3212, 1.2393,  ..., 0.4628, 0.3784, 0.8648],\n",
              "           [0.0000, 0.0446, 0.3702,  ..., 0.2120, 0.0568, 0.7641],\n",
              "           [0.5149, 0.4438, 0.1420,  ..., 0.1279, 0.4287, 0.0017],\n",
              "           ...,\n",
              "           [0.5787, 0.6512, 1.4363,  ..., 0.1033, 0.0814, 0.4686],\n",
              "           [0.3118, 0.1382, 0.2609,  ..., 0.8529, 0.6094, 0.2693],\n",
              "           [1.2795, 0.9350, 0.0000,  ..., 0.3268, 0.7394, 0.4937]],\n",
              " \n",
              "          [[0.0000, 0.6267, 0.9900,  ..., 0.3919, 0.4551, 1.2183],\n",
              "           [0.3478, 0.7240, 0.8255,  ..., 0.5547, 0.0101, 0.4791],\n",
              "           [0.8326, 0.7709, 0.5260,  ..., 1.0960, 0.5988, 0.6656],\n",
              "           ...,\n",
              "           [1.0649, 0.4275, 0.8944,  ..., 1.3514, 1.1724, 1.3528],\n",
              "           [0.1063, 0.0000, 0.6936,  ..., 0.2893, 0.9783, 0.5910],\n",
              "           [1.3903, 0.0000, 0.4811,  ..., 0.4922, 0.4878, 0.2524]],\n",
              " \n",
              "          [[0.7255, 1.1990, 0.7296,  ..., 0.0116, 1.1916, 0.2587],\n",
              "           [0.4126, 1.0440, 0.3622,  ..., 0.6244, 1.4581, 0.9812],\n",
              "           [0.0636, 0.9680, 1.0756,  ..., 0.6368, 0.3197, 0.6950],\n",
              "           ...,\n",
              "           [1.1377, 0.2368, 0.8992,  ..., 0.8145, 0.4692, 0.8405],\n",
              "           [0.5271, 0.6245, 1.0102,  ..., 0.8225, 0.7091, 0.7837],\n",
              "           [0.9332, 0.0000, 1.2374,  ..., 1.2191, 0.5626, 0.3549]]]],\n",
              "        grad_fn=<MaxPool2DWithIndicesBackward>),\n",
              " tensor([[[[3.7549e-01, 1.3803e-01, 1.7127e-01, 2.9157e-01, 0.0000e+00],\n",
              "           [9.9389e-03, 0.0000e+00, 7.4328e-02, 7.4095e-02, 4.5545e-02],\n",
              "           [6.6753e-02, 0.0000e+00, 0.0000e+00, 1.7436e-02, 1.9330e-01],\n",
              "           [2.9252e-01, 1.7653e-01, 4.3229e-02, 0.0000e+00, 1.9920e-01],\n",
              "           [2.1953e-01, 0.0000e+00, 1.9147e-01, 1.8700e-01, 1.7757e-01]],\n",
              " \n",
              "          [[0.0000e+00, 0.0000e+00, 0.0000e+00, 0.0000e+00, 0.0000e+00],\n",
              "           [0.0000e+00, 0.0000e+00, 0.0000e+00, 2.8681e-04, 0.0000e+00],\n",
              "           [0.0000e+00, 0.0000e+00, 0.0000e+00, 0.0000e+00, 0.0000e+00],\n",
              "           [0.0000e+00, 0.0000e+00, 0.0000e+00, 0.0000e+00, 0.0000e+00],\n",
              "           [0.0000e+00, 0.0000e+00, 0.0000e+00, 0.0000e+00, 0.0000e+00]],\n",
              " \n",
              "          [[3.6436e-01, 3.3529e-01, 4.4304e-01, 5.7468e-01, 3.4700e-01],\n",
              "           [5.4077e-01, 5.6343e-01, 6.6995e-01, 6.0632e-01, 3.9800e-01],\n",
              "           [5.7064e-01, 4.9013e-01, 4.8274e-01, 3.7918e-01, 4.8900e-01],\n",
              "           [4.7493e-01, 5.6762e-01, 3.3628e-01, 3.0223e-01, 4.5949e-01],\n",
              "           [7.5944e-01, 4.1210e-01, 4.8068e-01, 4.9500e-01, 3.3835e-01]],\n",
              " \n",
              "          [[0.0000e+00, 0.0000e+00, 8.8471e-02, 0.0000e+00, 0.0000e+00],\n",
              "           [0.0000e+00, 0.0000e+00, 0.0000e+00, 0.0000e+00, 0.0000e+00],\n",
              "           [2.3120e-03, 0.0000e+00, 0.0000e+00, 0.0000e+00, 0.0000e+00],\n",
              "           [0.0000e+00, 0.0000e+00, 0.0000e+00, 0.0000e+00, 0.0000e+00],\n",
              "           [0.0000e+00, 0.0000e+00, 1.2182e-01, 0.0000e+00, 0.0000e+00]],\n",
              " \n",
              "          [[6.5277e-02, 4.8907e-02, 2.1113e-01, 6.8351e-02, 0.0000e+00],\n",
              "           [0.0000e+00, 1.0232e-01, 1.5475e-01, 0.0000e+00, 1.0261e-01],\n",
              "           [3.2834e-02, 0.0000e+00, 2.7442e-01, 1.0093e-01, 5.3268e-01],\n",
              "           [1.4967e-01, 2.5898e-01, 2.9735e-02, 3.5604e-01, 0.0000e+00],\n",
              "           [2.4960e-01, 3.4216e-01, 0.0000e+00, 2.6626e-01, 7.0306e-02]],\n",
              " \n",
              "          [[0.0000e+00, 2.3749e-02, 0.0000e+00, 0.0000e+00, 1.1417e-01],\n",
              "           [0.0000e+00, 0.0000e+00, 0.0000e+00, 0.0000e+00, 1.5500e-01],\n",
              "           [3.0642e-01, 2.7166e-02, 1.2792e-01, 4.6880e-02, 0.0000e+00],\n",
              "           [0.0000e+00, 0.0000e+00, 0.0000e+00, 2.3108e-01, 0.0000e+00],\n",
              "           [0.0000e+00, 0.0000e+00, 0.0000e+00, 8.4646e-03, 0.0000e+00]],\n",
              " \n",
              "          [[6.7323e-01, 8.1958e-01, 6.5937e-01, 6.0073e-01, 7.9545e-01],\n",
              "           [4.8882e-01, 7.0541e-01, 5.1538e-01, 8.1345e-01, 4.0871e-01],\n",
              "           [9.3840e-01, 8.3340e-01, 9.9972e-01, 3.6595e-01, 6.3691e-01],\n",
              "           [5.4416e-01, 9.0106e-01, 7.0521e-01, 8.5530e-01, 1.0116e+00],\n",
              "           [9.1147e-01, 5.4457e-01, 8.2072e-01, 7.0028e-01, 8.9073e-01]],\n",
              " \n",
              "          [[8.1768e-01, 8.9607e-01, 7.0694e-01, 6.5049e-01, 5.6276e-01],\n",
              "           [6.9614e-01, 6.1647e-01, 5.6311e-01, 8.1339e-01, 9.8821e-01],\n",
              "           [6.5500e-01, 8.2759e-01, 7.4340e-01, 8.4163e-01, 6.3197e-01],\n",
              "           [8.7342e-01, 5.7424e-01, 7.3874e-01, 5.8741e-01, 8.7022e-01],\n",
              "           [7.9430e-01, 8.4250e-01, 6.9736e-01, 7.0378e-01, 1.0172e+00]],\n",
              " \n",
              "          [[3.4272e-01, 6.2098e-01, 6.1325e-01, 7.5025e-01, 7.4928e-01],\n",
              "           [8.2621e-01, 5.3596e-01, 8.3612e-01, 5.4827e-01, 6.1624e-01],\n",
              "           [4.7041e-01, 5.5301e-01, 3.9936e-01, 9.6006e-01, 5.1905e-01],\n",
              "           [6.5606e-01, 4.6273e-01, 7.0041e-01, 5.0867e-01, 8.9380e-01],\n",
              "           [6.3703e-01, 5.4846e-01, 8.4912e-01, 4.2081e-01, 6.1528e-01]],\n",
              " \n",
              "          [[1.0433e-02, 7.5171e-02, 2.8455e-02, 4.6617e-02, 2.1101e-01],\n",
              "           [1.7836e-01, 0.0000e+00, 0.0000e+00, 2.3516e-01, 5.0720e-02],\n",
              "           [0.0000e+00, 1.7245e-02, 0.0000e+00, 2.4067e-01, 2.1068e-01],\n",
              "           [0.0000e+00, 3.5198e-01, 0.0000e+00, 0.0000e+00, 2.7044e-01],\n",
              "           [2.4832e-01, 0.0000e+00, 0.0000e+00, 0.0000e+00, 0.0000e+00]],\n",
              " \n",
              "          [[3.9666e-01, 3.9941e-01, 3.9105e-01, 4.3085e-01, 2.5300e-01],\n",
              "           [3.2858e-01, 3.6900e-01, 4.3353e-01, 1.1692e-01, 6.3675e-01],\n",
              "           [3.2549e-01, 1.1307e-01, 3.3221e-01, 8.2220e-01, 2.0513e-01],\n",
              "           [3.0996e-01, 2.6030e-01, 6.8333e-01, 2.5325e-01, 5.0912e-01],\n",
              "           [2.3834e-01, 5.1418e-01, 4.0707e-01, 2.6051e-01, 2.5460e-01]],\n",
              " \n",
              "          [[3.4820e-01, 3.2091e-01, 3.2141e-01, 1.8893e-01, 3.8931e-01],\n",
              "           [3.3499e-01, 4.7036e-01, 2.5758e-01, 2.5960e-01, 3.9927e-01],\n",
              "           [1.7072e-01, 3.1525e-01, 6.7118e-01, 6.5016e-01, 3.7990e-01],\n",
              "           [3.5590e-01, 4.0078e-01, 2.5332e-01, 2.3845e-01, 4.4845e-01],\n",
              "           [3.3561e-01, 2.0551e-01, 4.3269e-01, 2.4795e-01, 5.2436e-01]],\n",
              " \n",
              "          [[1.2880e-01, 4.0567e-01, 4.0180e-01, 3.1861e-01, 2.8347e-01],\n",
              "           [1.0907e-01, 3.0018e-01, 6.6661e-01, 3.5925e-01, 6.0398e-01],\n",
              "           [2.5575e-01, 2.9446e-01, 5.1743e-01, 1.5838e-01, 5.1903e-01],\n",
              "           [1.2028e-01, 2.1583e-01, 1.4867e-01, 2.2724e-01, 3.5319e-01],\n",
              "           [4.4479e-01, 2.6695e-01, 1.9828e-01, 1.2377e-01, 2.4935e-01]],\n",
              " \n",
              "          [[2.4486e-01, 4.2070e-01, 3.2053e-01, 4.4567e-01, 3.8806e-01],\n",
              "           [2.6733e-01, 4.0450e-01, 2.5102e-01, 1.3200e-01, 6.1696e-01],\n",
              "           [3.0044e-01, 4.6117e-01, 4.0136e-01, 4.4720e-01, 6.0037e-01],\n",
              "           [4.1183e-01, 2.5250e-01, 2.5446e-01, 1.1640e-01, 5.7725e-01],\n",
              "           [3.6364e-01, 2.1346e-01, 2.2408e-01, 5.5315e-01, 4.0473e-01]],\n",
              " \n",
              "          [[0.0000e+00, 3.7813e-01, 3.0632e-01, 8.5340e-02, 2.4757e-01],\n",
              "           [0.0000e+00, 1.4845e-01, 4.5077e-01, 1.1015e-01, 1.6889e-01],\n",
              "           [0.0000e+00, 4.8774e-03, 2.1532e-01, 7.5668e-02, 1.8203e-01],\n",
              "           [2.6061e-02, 3.5475e-01, 5.7054e-02, 7.0442e-02, 2.8664e-01],\n",
              "           [0.0000e+00, 2.5266e-01, 1.3306e-01, 2.3242e-01, 2.0593e-01]],\n",
              " \n",
              "          [[0.0000e+00, 4.7169e-01, 0.0000e+00, 1.1634e-01, 1.0354e-01],\n",
              "           [0.0000e+00, 3.5398e-01, 0.0000e+00, 7.2138e-02, 2.6427e-02],\n",
              "           [0.0000e+00, 0.0000e+00, 1.3136e-01, 3.1806e-01, 2.5886e-01],\n",
              "           [2.6612e-02, 6.8328e-02, 2.7246e-01, 0.0000e+00, 0.0000e+00],\n",
              "           [0.0000e+00, 0.0000e+00, 1.2977e-01, 0.0000e+00, 0.0000e+00]]]],\n",
              "        grad_fn=<MaxPool2DWithIndicesBackward>)]"
            ]
          },
          "metadata": {
            "tags": []
          },
          "execution_count": 18
        }
      ]
    },
    {
      "cell_type": "code",
      "metadata": {
        "colab": {
          "base_uri": "https://localhost:8080/"
        },
        "id": "d0jAIZ_qjtnI",
        "outputId": "c1b9f98a-60ad-4003-ddbb-03d9f6975988"
      },
      "source": [
        "print(outputs[0].shape)\n",
        "print(outputs[1].shape)"
      ],
      "execution_count": 19,
      "outputs": [
        {
          "output_type": "stream",
          "text": [
            "torch.Size([1, 6, 14, 14])\n",
            "torch.Size([1, 16, 5, 5])\n"
          ],
          "name": "stdout"
        }
      ]
    },
    {
      "cell_type": "markdown",
      "metadata": {
        "id": "nUjG7LkLjtnK"
      },
      "source": [
        "## 加入自定義 initialization fuction"
      ]
    },
    {
      "cell_type": "markdown",
      "metadata": {
        "id": "RXT1pcSojtnL"
      },
      "source": [
        "#### 對所有Conv2D層使用自定義initialization function\n",
        "* weight : nn.init.kaiming_normal_\n",
        "* bias : 全部輸入1"
      ]
    },
    {
      "cell_type": "code",
      "metadata": {
        "colab": {
          "base_uri": "https://localhost:8080/"
        },
        "id": "lUZrGwAZjtnN",
        "outputId": "3d4e241f-2c4c-49a5-fd76-e901957ee5c9"
      },
      "source": [
        "from torch.nn import init\n",
        "\n",
        "def weights_init(m):\n",
        "    #classname = m.__class__.__name__\n",
        "    # if isinstance(m, \"自行填入\"):\n",
        "    if isinstance(m, nn.Conv2d):\n",
        "        #torch.nn.init.xavier_uniform_(m.weight)\n",
        "        nn.init.kaiming_normal_(m.weight.data,\n",
        "                                    a=0,\n",
        "                                    mode='fan_out',\n",
        "                                    nonlinearity='relu')\n",
        "        if m.bias is not None:\n",
        "            # \"自行填入\"\n",
        "            torch.nn.init.ones_(m.bias)\n",
        "            \n",
        "# model.apply(\"自行填入\")\n",
        "model.apply(fn=weights_init)"
      ],
      "execution_count": 22,
      "outputs": [
        {
          "output_type": "execute_result",
          "data": {
            "text/plain": [
              "TheModelClass(\n",
              "  (conv1): Conv2d(3, 6, kernel_size=(5, 5), stride=(1, 1))\n",
              "  (pool): MaxPool2d(kernel_size=2, stride=2, padding=0, dilation=1, ceil_mode=False)\n",
              "  (conv2): Conv2d(6, 16, kernel_size=(5, 5), stride=(1, 1))\n",
              "  (fc1): Linear(in_features=400, out_features=120, bias=True)\n",
              "  (fc2): Linear(in_features=120, out_features=84, bias=True)\n",
              "  (fc3): Linear(in_features=84, out_features=10, bias=True)\n",
              ")"
            ]
          },
          "metadata": {
            "tags": []
          },
          "execution_count": 22
        }
      ]
    },
    {
      "cell_type": "markdown",
      "metadata": {
        "id": "jlgNmZBGjtnP"
      },
      "source": [
        "#### 查看 conv層的bias是否皆為1"
      ]
    },
    {
      "cell_type": "code",
      "metadata": {
        "colab": {
          "base_uri": "https://localhost:8080/"
        },
        "id": "bGYDvgSejtnQ",
        "outputId": "29c4b00a-4078-408e-b1dc-b7b4c297cf23"
      },
      "source": [
        "for name, parameters in model.named_parameters():\n",
        "    if ('conv' in name) and ('bias' in name):\n",
        "        print(name, parameters)\n",
        "        print('\\n')"
      ],
      "execution_count": 23,
      "outputs": [
        {
          "output_type": "stream",
          "text": [
            "conv1.bias Parameter containing:\n",
            "tensor([1., 1., 1., 1., 1., 1.], requires_grad=True)\n",
            "\n",
            "\n",
            "conv2.bias Parameter containing:\n",
            "tensor([1., 1., 1., 1., 1., 1., 1., 1., 1., 1., 1., 1., 1., 1., 1., 1.],\n",
            "       requires_grad=True)\n",
            "\n",
            "\n"
          ],
          "name": "stdout"
        }
      ]
    },
    {
      "cell_type": "code",
      "metadata": {
        "id": "moYEy3L1jtnR"
      },
      "source": [
        ""
      ],
      "execution_count": null,
      "outputs": []
    }
  ]
}