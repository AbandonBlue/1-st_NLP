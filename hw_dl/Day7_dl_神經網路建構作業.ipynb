{
  "nbformat": 4,
  "nbformat_minor": 0,
  "metadata": {
    "kernelspec": {
      "display_name": "Python 3",
      "language": "python",
      "name": "python3"
    },
    "language_info": {
      "codemirror_mode": {
        "name": "ipython",
        "version": 3
      },
      "file_extension": ".py",
      "mimetype": "text/x-python",
      "name": "python",
      "nbconvert_exporter": "python",
      "pygments_lexer": "ipython3",
      "version": "3.7.4"
    },
    "colab": {
      "name": "Day7_dl_神經網路建構作業.ipynb",
      "provenance": []
    },
    "accelerator": "GPU"
  },
  "cells": [
    {
      "cell_type": "markdown",
      "metadata": {
        "id": "OtdTYA0-peQf"
      },
      "source": [
        "## 第一部分：了解 nn.Module的基本操作"
      ]
    },
    {
      "cell_type": "code",
      "metadata": {
        "id": "ufcWun8upeQh"
      },
      "source": [
        "import torch\n",
        "import torch.nn as nn\n",
        "import torchvision.models as models\n",
        "import torch.nn.functional as F\n",
        "import numpy as np"
      ],
      "execution_count": 1,
      "outputs": []
    },
    {
      "cell_type": "code",
      "metadata": {
        "colab": {
          "base_uri": "https://localhost:8080/"
        },
        "id": "kRf7XMZ7peQi",
        "outputId": "0e6efb97-fa60-4add-8346-48beaa35692c"
      },
      "source": [
        "model = models.resnet18()\n",
        "\n",
        "print(model)"
      ],
      "execution_count": 2,
      "outputs": [
        {
          "output_type": "stream",
          "text": [
            "ResNet(\n",
            "  (conv1): Conv2d(3, 64, kernel_size=(7, 7), stride=(2, 2), padding=(3, 3), bias=False)\n",
            "  (bn1): BatchNorm2d(64, eps=1e-05, momentum=0.1, affine=True, track_running_stats=True)\n",
            "  (relu): ReLU(inplace=True)\n",
            "  (maxpool): MaxPool2d(kernel_size=3, stride=2, padding=1, dilation=1, ceil_mode=False)\n",
            "  (layer1): Sequential(\n",
            "    (0): BasicBlock(\n",
            "      (conv1): Conv2d(64, 64, kernel_size=(3, 3), stride=(1, 1), padding=(1, 1), bias=False)\n",
            "      (bn1): BatchNorm2d(64, eps=1e-05, momentum=0.1, affine=True, track_running_stats=True)\n",
            "      (relu): ReLU(inplace=True)\n",
            "      (conv2): Conv2d(64, 64, kernel_size=(3, 3), stride=(1, 1), padding=(1, 1), bias=False)\n",
            "      (bn2): BatchNorm2d(64, eps=1e-05, momentum=0.1, affine=True, track_running_stats=True)\n",
            "    )\n",
            "    (1): BasicBlock(\n",
            "      (conv1): Conv2d(64, 64, kernel_size=(3, 3), stride=(1, 1), padding=(1, 1), bias=False)\n",
            "      (bn1): BatchNorm2d(64, eps=1e-05, momentum=0.1, affine=True, track_running_stats=True)\n",
            "      (relu): ReLU(inplace=True)\n",
            "      (conv2): Conv2d(64, 64, kernel_size=(3, 3), stride=(1, 1), padding=(1, 1), bias=False)\n",
            "      (bn2): BatchNorm2d(64, eps=1e-05, momentum=0.1, affine=True, track_running_stats=True)\n",
            "    )\n",
            "  )\n",
            "  (layer2): Sequential(\n",
            "    (0): BasicBlock(\n",
            "      (conv1): Conv2d(64, 128, kernel_size=(3, 3), stride=(2, 2), padding=(1, 1), bias=False)\n",
            "      (bn1): BatchNorm2d(128, eps=1e-05, momentum=0.1, affine=True, track_running_stats=True)\n",
            "      (relu): ReLU(inplace=True)\n",
            "      (conv2): Conv2d(128, 128, kernel_size=(3, 3), stride=(1, 1), padding=(1, 1), bias=False)\n",
            "      (bn2): BatchNorm2d(128, eps=1e-05, momentum=0.1, affine=True, track_running_stats=True)\n",
            "      (downsample): Sequential(\n",
            "        (0): Conv2d(64, 128, kernel_size=(1, 1), stride=(2, 2), bias=False)\n",
            "        (1): BatchNorm2d(128, eps=1e-05, momentum=0.1, affine=True, track_running_stats=True)\n",
            "      )\n",
            "    )\n",
            "    (1): BasicBlock(\n",
            "      (conv1): Conv2d(128, 128, kernel_size=(3, 3), stride=(1, 1), padding=(1, 1), bias=False)\n",
            "      (bn1): BatchNorm2d(128, eps=1e-05, momentum=0.1, affine=True, track_running_stats=True)\n",
            "      (relu): ReLU(inplace=True)\n",
            "      (conv2): Conv2d(128, 128, kernel_size=(3, 3), stride=(1, 1), padding=(1, 1), bias=False)\n",
            "      (bn2): BatchNorm2d(128, eps=1e-05, momentum=0.1, affine=True, track_running_stats=True)\n",
            "    )\n",
            "  )\n",
            "  (layer3): Sequential(\n",
            "    (0): BasicBlock(\n",
            "      (conv1): Conv2d(128, 256, kernel_size=(3, 3), stride=(2, 2), padding=(1, 1), bias=False)\n",
            "      (bn1): BatchNorm2d(256, eps=1e-05, momentum=0.1, affine=True, track_running_stats=True)\n",
            "      (relu): ReLU(inplace=True)\n",
            "      (conv2): Conv2d(256, 256, kernel_size=(3, 3), stride=(1, 1), padding=(1, 1), bias=False)\n",
            "      (bn2): BatchNorm2d(256, eps=1e-05, momentum=0.1, affine=True, track_running_stats=True)\n",
            "      (downsample): Sequential(\n",
            "        (0): Conv2d(128, 256, kernel_size=(1, 1), stride=(2, 2), bias=False)\n",
            "        (1): BatchNorm2d(256, eps=1e-05, momentum=0.1, affine=True, track_running_stats=True)\n",
            "      )\n",
            "    )\n",
            "    (1): BasicBlock(\n",
            "      (conv1): Conv2d(256, 256, kernel_size=(3, 3), stride=(1, 1), padding=(1, 1), bias=False)\n",
            "      (bn1): BatchNorm2d(256, eps=1e-05, momentum=0.1, affine=True, track_running_stats=True)\n",
            "      (relu): ReLU(inplace=True)\n",
            "      (conv2): Conv2d(256, 256, kernel_size=(3, 3), stride=(1, 1), padding=(1, 1), bias=False)\n",
            "      (bn2): BatchNorm2d(256, eps=1e-05, momentum=0.1, affine=True, track_running_stats=True)\n",
            "    )\n",
            "  )\n",
            "  (layer4): Sequential(\n",
            "    (0): BasicBlock(\n",
            "      (conv1): Conv2d(256, 512, kernel_size=(3, 3), stride=(2, 2), padding=(1, 1), bias=False)\n",
            "      (bn1): BatchNorm2d(512, eps=1e-05, momentum=0.1, affine=True, track_running_stats=True)\n",
            "      (relu): ReLU(inplace=True)\n",
            "      (conv2): Conv2d(512, 512, kernel_size=(3, 3), stride=(1, 1), padding=(1, 1), bias=False)\n",
            "      (bn2): BatchNorm2d(512, eps=1e-05, momentum=0.1, affine=True, track_running_stats=True)\n",
            "      (downsample): Sequential(\n",
            "        (0): Conv2d(256, 512, kernel_size=(1, 1), stride=(2, 2), bias=False)\n",
            "        (1): BatchNorm2d(512, eps=1e-05, momentum=0.1, affine=True, track_running_stats=True)\n",
            "      )\n",
            "    )\n",
            "    (1): BasicBlock(\n",
            "      (conv1): Conv2d(512, 512, kernel_size=(3, 3), stride=(1, 1), padding=(1, 1), bias=False)\n",
            "      (bn1): BatchNorm2d(512, eps=1e-05, momentum=0.1, affine=True, track_running_stats=True)\n",
            "      (relu): ReLU(inplace=True)\n",
            "      (conv2): Conv2d(512, 512, kernel_size=(3, 3), stride=(1, 1), padding=(1, 1), bias=False)\n",
            "      (bn2): BatchNorm2d(512, eps=1e-05, momentum=0.1, affine=True, track_running_stats=True)\n",
            "    )\n",
            "  )\n",
            "  (avgpool): AdaptiveAvgPool2d(output_size=(1, 1))\n",
            "  (fc): Linear(in_features=512, out_features=1000, bias=True)\n",
            ")\n"
          ],
          "name": "stdout"
        }
      ]
    },
    {
      "cell_type": "markdown",
      "metadata": {
        "id": "YXWkOizJpeQj"
      },
      "source": [
        "### 打印出 model底下所有 parameters 的 name 以及對應的 shape "
      ]
    },
    {
      "cell_type": "code",
      "metadata": {
        "colab": {
          "base_uri": "https://localhost:8080/"
        },
        "id": "aMRR5hbwpeQl",
        "outputId": "b7c0be56-841c-4803-b7f2-2fb996b108b7"
      },
      "source": [
        "for name, param in model.named_parameters():\n",
        "    print(name, '\\t', param.shape, '\\t', param.requires_grad)\n",
        "    print()"
      ],
      "execution_count": 3,
      "outputs": [
        {
          "output_type": "stream",
          "text": [
            "conv1.weight \t torch.Size([64, 3, 7, 7]) \t True\n",
            "\n",
            "bn1.weight \t torch.Size([64]) \t True\n",
            "\n",
            "bn1.bias \t torch.Size([64]) \t True\n",
            "\n",
            "layer1.0.conv1.weight \t torch.Size([64, 64, 3, 3]) \t True\n",
            "\n",
            "layer1.0.bn1.weight \t torch.Size([64]) \t True\n",
            "\n",
            "layer1.0.bn1.bias \t torch.Size([64]) \t True\n",
            "\n",
            "layer1.0.conv2.weight \t torch.Size([64, 64, 3, 3]) \t True\n",
            "\n",
            "layer1.0.bn2.weight \t torch.Size([64]) \t True\n",
            "\n",
            "layer1.0.bn2.bias \t torch.Size([64]) \t True\n",
            "\n",
            "layer1.1.conv1.weight \t torch.Size([64, 64, 3, 3]) \t True\n",
            "\n",
            "layer1.1.bn1.weight \t torch.Size([64]) \t True\n",
            "\n",
            "layer1.1.bn1.bias \t torch.Size([64]) \t True\n",
            "\n",
            "layer1.1.conv2.weight \t torch.Size([64, 64, 3, 3]) \t True\n",
            "\n",
            "layer1.1.bn2.weight \t torch.Size([64]) \t True\n",
            "\n",
            "layer1.1.bn2.bias \t torch.Size([64]) \t True\n",
            "\n",
            "layer2.0.conv1.weight \t torch.Size([128, 64, 3, 3]) \t True\n",
            "\n",
            "layer2.0.bn1.weight \t torch.Size([128]) \t True\n",
            "\n",
            "layer2.0.bn1.bias \t torch.Size([128]) \t True\n",
            "\n",
            "layer2.0.conv2.weight \t torch.Size([128, 128, 3, 3]) \t True\n",
            "\n",
            "layer2.0.bn2.weight \t torch.Size([128]) \t True\n",
            "\n",
            "layer2.0.bn2.bias \t torch.Size([128]) \t True\n",
            "\n",
            "layer2.0.downsample.0.weight \t torch.Size([128, 64, 1, 1]) \t True\n",
            "\n",
            "layer2.0.downsample.1.weight \t torch.Size([128]) \t True\n",
            "\n",
            "layer2.0.downsample.1.bias \t torch.Size([128]) \t True\n",
            "\n",
            "layer2.1.conv1.weight \t torch.Size([128, 128, 3, 3]) \t True\n",
            "\n",
            "layer2.1.bn1.weight \t torch.Size([128]) \t True\n",
            "\n",
            "layer2.1.bn1.bias \t torch.Size([128]) \t True\n",
            "\n",
            "layer2.1.conv2.weight \t torch.Size([128, 128, 3, 3]) \t True\n",
            "\n",
            "layer2.1.bn2.weight \t torch.Size([128]) \t True\n",
            "\n",
            "layer2.1.bn2.bias \t torch.Size([128]) \t True\n",
            "\n",
            "layer3.0.conv1.weight \t torch.Size([256, 128, 3, 3]) \t True\n",
            "\n",
            "layer3.0.bn1.weight \t torch.Size([256]) \t True\n",
            "\n",
            "layer3.0.bn1.bias \t torch.Size([256]) \t True\n",
            "\n",
            "layer3.0.conv2.weight \t torch.Size([256, 256, 3, 3]) \t True\n",
            "\n",
            "layer3.0.bn2.weight \t torch.Size([256]) \t True\n",
            "\n",
            "layer3.0.bn2.bias \t torch.Size([256]) \t True\n",
            "\n",
            "layer3.0.downsample.0.weight \t torch.Size([256, 128, 1, 1]) \t True\n",
            "\n",
            "layer3.0.downsample.1.weight \t torch.Size([256]) \t True\n",
            "\n",
            "layer3.0.downsample.1.bias \t torch.Size([256]) \t True\n",
            "\n",
            "layer3.1.conv1.weight \t torch.Size([256, 256, 3, 3]) \t True\n",
            "\n",
            "layer3.1.bn1.weight \t torch.Size([256]) \t True\n",
            "\n",
            "layer3.1.bn1.bias \t torch.Size([256]) \t True\n",
            "\n",
            "layer3.1.conv2.weight \t torch.Size([256, 256, 3, 3]) \t True\n",
            "\n",
            "layer3.1.bn2.weight \t torch.Size([256]) \t True\n",
            "\n",
            "layer3.1.bn2.bias \t torch.Size([256]) \t True\n",
            "\n",
            "layer4.0.conv1.weight \t torch.Size([512, 256, 3, 3]) \t True\n",
            "\n",
            "layer4.0.bn1.weight \t torch.Size([512]) \t True\n",
            "\n",
            "layer4.0.bn1.bias \t torch.Size([512]) \t True\n",
            "\n",
            "layer4.0.conv2.weight \t torch.Size([512, 512, 3, 3]) \t True\n",
            "\n",
            "layer4.0.bn2.weight \t torch.Size([512]) \t True\n",
            "\n",
            "layer4.0.bn2.bias \t torch.Size([512]) \t True\n",
            "\n",
            "layer4.0.downsample.0.weight \t torch.Size([512, 256, 1, 1]) \t True\n",
            "\n",
            "layer4.0.downsample.1.weight \t torch.Size([512]) \t True\n",
            "\n",
            "layer4.0.downsample.1.bias \t torch.Size([512]) \t True\n",
            "\n",
            "layer4.1.conv1.weight \t torch.Size([512, 512, 3, 3]) \t True\n",
            "\n",
            "layer4.1.bn1.weight \t torch.Size([512]) \t True\n",
            "\n",
            "layer4.1.bn1.bias \t torch.Size([512]) \t True\n",
            "\n",
            "layer4.1.conv2.weight \t torch.Size([512, 512, 3, 3]) \t True\n",
            "\n",
            "layer4.1.bn2.weight \t torch.Size([512]) \t True\n",
            "\n",
            "layer4.1.bn2.bias \t torch.Size([512]) \t True\n",
            "\n",
            "fc.weight \t torch.Size([1000, 512]) \t True\n",
            "\n",
            "fc.bias \t torch.Size([1000]) \t True\n",
            "\n"
          ],
          "name": "stdout"
        }
      ]
    },
    {
      "cell_type": "markdown",
      "metadata": {
        "id": "o8XAnP5ApeQp"
      },
      "source": [
        "### 為了使 forward propagation 加速 並降低 memory 使用量，請將所有 parameters 的requires_grad 關閉，關閉之後執行  forward propagation"
      ]
    },
    {
      "cell_type": "code",
      "metadata": {
        "id": "fg_X4FKWpeQr"
      },
      "source": [
        "input_ = torch.randn(1, 3, 128, 128)"
      ],
      "execution_count": 4,
      "outputs": []
    },
    {
      "cell_type": "code",
      "metadata": {
        "id": "S_aDtCfVpeQr"
      },
      "source": [
        "for param in model.parameters():\n",
        "    param.requires_grad_(False)"
      ],
      "execution_count": 5,
      "outputs": []
    },
    {
      "cell_type": "code",
      "metadata": {
        "colab": {
          "base_uri": "https://localhost:8080/"
        },
        "id": "UPnygiP5scYV",
        "outputId": "dba3d29d-c264-4e16-986f-0fff243337fd"
      },
      "source": [
        "for param in model.parameters():\n",
        "    print(param.requires_grad)"
      ],
      "execution_count": 6,
      "outputs": [
        {
          "output_type": "stream",
          "text": [
            "False\n",
            "False\n",
            "False\n",
            "False\n",
            "False\n",
            "False\n",
            "False\n",
            "False\n",
            "False\n",
            "False\n",
            "False\n",
            "False\n",
            "False\n",
            "False\n",
            "False\n",
            "False\n",
            "False\n",
            "False\n",
            "False\n",
            "False\n",
            "False\n",
            "False\n",
            "False\n",
            "False\n",
            "False\n",
            "False\n",
            "False\n",
            "False\n",
            "False\n",
            "False\n",
            "False\n",
            "False\n",
            "False\n",
            "False\n",
            "False\n",
            "False\n",
            "False\n",
            "False\n",
            "False\n",
            "False\n",
            "False\n",
            "False\n",
            "False\n",
            "False\n",
            "False\n",
            "False\n",
            "False\n",
            "False\n",
            "False\n",
            "False\n",
            "False\n",
            "False\n",
            "False\n",
            "False\n",
            "False\n",
            "False\n",
            "False\n",
            "False\n",
            "False\n",
            "False\n",
            "False\n",
            "False\n"
          ],
          "name": "stdout"
        }
      ]
    },
    {
      "cell_type": "code",
      "metadata": {
        "colab": {
          "base_uri": "https://localhost:8080/"
        },
        "id": "PO2RKgnLpeQs",
        "outputId": "a1b850b9-c3b8-40df-d1cb-a6fecc27f1df"
      },
      "source": [
        "output = model(input_)\n",
        "print(output.shape)"
      ],
      "execution_count": 7,
      "outputs": [
        {
          "output_type": "stream",
          "text": [
            "torch.Size([1, 1000])\n"
          ],
          "name": "stdout"
        },
        {
          "output_type": "stream",
          "text": [
            "/usr/local/lib/python3.7/dist-packages/torch/nn/functional.py:718: UserWarning: Named tensors and all their associated APIs are an experimental feature and subject to change. Please do not use them for anything important until they are released as stable. (Triggered internally at  /pytorch/c10/core/TensorImpl.h:1156.)\n",
            "  return torch.max_pool2d(input, kernel_size, stride, padding, dilation, ceil_mode)\n"
          ],
          "name": "stderr"
        }
      ]
    },
    {
      "cell_type": "markdown",
      "metadata": {
        "id": "_4TVIBOSpeQu"
      },
      "source": [
        "## 第二部分：依照指令，以較簡潔的方式搭建出模型"
      ]
    },
    {
      "cell_type": "markdown",
      "metadata": {
        "id": "sI2CrWI_peQv"
      },
      "source": [
        "* input_shape = torch.Size([10, 12])\n",
        "* 先經過一層 nn.Linear(12, 10)\n",
        "* 經過10層 nn.Linear(10, 10)\n",
        "* 最後經過 nn.Linear(10, 3) 輸出\n",
        "* 每一個 nn.Linear過完後要先經過 nn.BatchNorm1d 才能到下一層，輸出層不用\n"
      ]
    },
    {
      "cell_type": "code",
      "metadata": {
        "id": "VgMvEPh_peQw"
      },
      "source": [
        "input_ = torch.randn(10, 12)\n",
        "## 示範\n",
        "Linear = nn.Linear(in_features=12, out_features=10)\n",
        "BN = nn.BatchNorm1d(num_features=10)"
      ],
      "execution_count": 8,
      "outputs": []
    },
    {
      "cell_type": "code",
      "metadata": {
        "id": "FBVP2QyrpeQx"
      },
      "source": [
        "class Model(nn.Module):\n",
        "    def __init__(self):\n",
        "        super(Model, self).__init__()\n",
        "        # \"自行填入\"\n",
        "        self.linear = nn.Linear(12, 10)\n",
        "        self.bn = nn.BatchNorm1d(10)\n",
        "        self.linears = [nn.Linear(10, 10) for _ in range(10)]\n",
        "        self.bns = [nn.BatchNorm1d(10) for _ in range(10)]\n",
        "        self.output = nn.Linear(10, 3)\n",
        "\n",
        "    def forward(self, x):\n",
        "        # \"自行填入\"\n",
        "        x = self.bn(self.linear(x))\n",
        "        for i in range(10):\n",
        "            x = self.bns[i](self.linears[i](x))\n",
        "            print(i, 'running!')\n",
        "        x = self.output(x)\n",
        "        return x"
      ],
      "execution_count": 9,
      "outputs": []
    },
    {
      "cell_type": "code",
      "metadata": {
        "id": "DZ59Pm7BpeQx"
      },
      "source": [
        "model = Model()"
      ],
      "execution_count": 10,
      "outputs": []
    },
    {
      "cell_type": "code",
      "metadata": {
        "colab": {
          "base_uri": "https://localhost:8080/"
        },
        "id": "tCqNzVpapeQz",
        "outputId": "a9cd7d5c-fa0a-4138-b193-469a7205ed5f"
      },
      "source": [
        "model"
      ],
      "execution_count": 11,
      "outputs": [
        {
          "output_type": "execute_result",
          "data": {
            "text/plain": [
              "Model(\n",
              "  (linear): Linear(in_features=12, out_features=10, bias=True)\n",
              "  (bn): BatchNorm1d(10, eps=1e-05, momentum=0.1, affine=True, track_running_stats=True)\n",
              "  (output): Linear(in_features=10, out_features=3, bias=True)\n",
              ")"
            ]
          },
          "metadata": {
            "tags": []
          },
          "execution_count": 11
        }
      ]
    },
    {
      "cell_type": "code",
      "metadata": {
        "colab": {
          "base_uri": "https://localhost:8080/"
        },
        "id": "a5EndspPr5Q5",
        "outputId": "d90d3d5f-ac0c-4dd0-843e-365e3ae579b9"
      },
      "source": [
        "for name, param in model.named_parameters():\n",
        "    print(name, '\\t', param.shape)"
      ],
      "execution_count": 12,
      "outputs": [
        {
          "output_type": "stream",
          "text": [
            "linear.weight \t torch.Size([10, 12])\n",
            "linear.bias \t torch.Size([10])\n",
            "bn.weight \t torch.Size([10])\n",
            "bn.bias \t torch.Size([10])\n",
            "output.weight \t torch.Size([3, 10])\n",
            "output.bias \t torch.Size([3])\n"
          ],
          "name": "stdout"
        }
      ]
    },
    {
      "cell_type": "code",
      "metadata": {
        "colab": {
          "base_uri": "https://localhost:8080/"
        },
        "id": "fmS0ad9fpeQ2",
        "outputId": "2dd400c1-ec2c-4bc9-a6ae-96f50f066fa7"
      },
      "source": [
        "input_ = torch.randn(10,12)\n",
        "outupt = model(input_)"
      ],
      "execution_count": 13,
      "outputs": [
        {
          "output_type": "stream",
          "text": [
            "0 running!\n",
            "1 running!\n",
            "2 running!\n",
            "3 running!\n",
            "4 running!\n",
            "5 running!\n",
            "6 running!\n",
            "7 running!\n",
            "8 running!\n",
            "9 running!\n"
          ],
          "name": "stdout"
        }
      ]
    },
    {
      "cell_type": "code",
      "metadata": {
        "colab": {
          "base_uri": "https://localhost:8080/"
        },
        "id": "KSGA-aLrpeQ4",
        "outputId": "389285b7-efb0-4c38-f5bd-35dab64041a9"
      },
      "source": [
        "outupt"
      ],
      "execution_count": 14,
      "outputs": [
        {
          "output_type": "execute_result",
          "data": {
            "text/plain": [
              "tensor([[-0.6996,  1.2916, -0.3363],\n",
              "        [-0.7340,  1.1711, -0.2765],\n",
              "        [-1.1778,  0.4626,  0.0299],\n",
              "        [-0.0177,  0.5350, -0.4176],\n",
              "        [ 0.3852, -1.3095, -0.2575],\n",
              "        [-0.8096, -0.1171, -0.1944],\n",
              "        [ 0.1331, -0.0067, -0.4225],\n",
              "        [ 1.0866, -0.7085, -0.4295],\n",
              "        [-0.3667, -0.5736, -0.2028],\n",
              "        [-0.4805,  0.1350, -0.3578]], grad_fn=<AddmmBackward>)"
            ]
          },
          "metadata": {
            "tags": []
          },
          "execution_count": 14
        }
      ]
    },
    {
      "cell_type": "code",
      "metadata": {
        "id": "F5w4Ior-peQ5"
      },
      "source": [
        ""
      ],
      "execution_count": 14,
      "outputs": []
    }
  ]
}