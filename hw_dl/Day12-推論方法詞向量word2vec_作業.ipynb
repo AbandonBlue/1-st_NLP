{
  "nbformat": 4,
  "nbformat_minor": 0,
  "metadata": {
    "kernelspec": {
      "display_name": "Python 3",
      "language": "python",
      "name": "python3"
    },
    "language_info": {
      "codemirror_mode": {
        "name": "ipython",
        "version": 3
      },
      "file_extension": ".py",
      "mimetype": "text/x-python",
      "name": "python",
      "nbconvert_exporter": "python",
      "pygments_lexer": "ipython3",
      "version": "3.7.3"
    },
    "colab": {
      "name": "Day12-推論方法詞向量word2vec_作業.ipynb",
      "provenance": []
    }
  },
  "cells": [
    {
      "cell_type": "markdown",
      "metadata": {
        "id": "yqb7wKnfCSdy"
      },
      "source": [
        "### 作業目的: 了解為何需要推論方法的詞向量及其優缺點\n",
        "本次作業主要為思考題，請學員根據題目思考適合的回答"
      ]
    },
    {
      "cell_type": "markdown",
      "metadata": {
        "id": "cf-eZZeQCSd5"
      },
      "source": [
        "### Question:\n",
        "本次課程學習了word2vec中的兩個模型CBOW與Skip-gram，請學員思考與比較此兩種模型的優缺點?"
      ]
    },
    {
      "cell_type": "markdown",
      "metadata": {
        "id": "Dkhs7p8GCSd6"
      },
      "source": [
        "### Answer:\n",
        "\n",
        "* **CBOW**: \n",
        "    - 優點: \n",
        "        - 符合人類思考方式\n",
        "        - 訓練快速(相較於skip-gram)\n",
        "    - 缺點:\n",
        "        - 生僻詞效果差\n",
        "\n",
        "###your answer###\n",
        "\n",
        "* **Skip-gram**:\n",
        "    - 優點:\n",
        "        - 生僻字效果好\n",
        "    - 缺點:\n",
        "        - 速度慢\n",
        "\n",
        "###your answer###\n"
      ]
    },
    {
      "cell_type": "code",
      "metadata": {
        "id": "THt5HeKfCSd8"
      },
      "source": [
        ""
      ],
      "execution_count": null,
      "outputs": []
    }
  ]
}