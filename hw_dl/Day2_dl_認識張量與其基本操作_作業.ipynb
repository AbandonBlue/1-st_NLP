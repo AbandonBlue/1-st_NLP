{
 "cells": [
  {
   "cell_type": "markdown",
   "metadata": {},
   "source": [
    "### 作業目的: 更加熟習pytorch的tensor操作\n",
    "\n",
    "pytorch中有提供很多的API，讓使用者針對tensor進行各式各樣的操作，本次的作業希望讀者由pytorch的[官方網站](https://pytorch.org/docs/stable/torch.html)中選定四個針對tensor操作的API，對他的使用方法進行範例操作演練。"
   ]
  },
  {
   "cell_type": "markdown",
   "metadata": {},
   "source": [
    "### 選定的API 函數\n",
    "\n",
    "**請寫下選定的API functions**\n",
    "\n",
    "ex:\n",
    "* torch.from_array() / tensor.numpy()\n",
    "* torch.unsqueeze() / torch.squeeze()\n",
    "* tensor.transpose() / tensor.permute()\n",
    "* torch.reshape() / tensor.view()"
   ]
  },
  {
   "cell_type": "code",
   "execution_count": 3,
   "metadata": {
    "ExecuteTime": {
     "end_time": "2020-12-31T05:07:51.000092Z",
     "start_time": "2020-12-31T05:07:46.936988Z"
    }
   },
   "outputs": [],
   "source": [
    "# Import torch and other required modules\n",
    "import torch\n",
    "import numpy as np"
   ]
  },
  {
   "cell_type": "markdown",
   "metadata": {},
   "source": [
    "### 範例:\n",
    "### Function 1 - torch.from_array() / tensor.numpy()"
   ]
  },
  {
   "cell_type": "code",
   "execution_count": 4,
   "metadata": {
    "ExecuteTime": {
     "end_time": "2020-12-31T05:08:02.844619Z",
     "start_time": "2020-12-31T05:08:02.827875Z"
    }
   },
   "outputs": [
    {
     "name": "stdout",
     "output_type": "stream",
     "text": [
      "a: <class 'numpy.ndarray'>, float64\n",
      "b: <class 'torch.Tensor'>, torch.float64\n",
      "c: <class 'torch.Tensor'>, torch.float64\n",
      "d: <class 'numpy.ndarray'>, float64\n"
     ]
    }
   ],
   "source": [
    "# Example 1 - 將torch tensor與numpy ndarray互相轉換\n",
    "a = np.random.rand(1,2,3,3)\n",
    "print(f'a: {type(a)}, {a.dtype}')\n",
    "b = torch.from_numpy(a)\n",
    "print(f'b: {type(b)}, {b.dtype}')\n",
    "c = torch.tensor(a)\n",
    "print(f'c: {type(c)}, {c.dtype}')\n",
    "d = c.numpy()\n",
    "print(f'd: {type(d)}, {d.dtype}')"
   ]
  },
  {
   "cell_type": "code",
   "execution_count": 5,
   "metadata": {
    "ExecuteTime": {
     "end_time": "2020-12-31T05:08:13.545788Z",
     "start_time": "2020-12-31T05:08:13.535206Z"
    }
   },
   "outputs": [
    {
     "name": "stdout",
     "output_type": "stream",
     "text": [
      "a: <class 'numpy.ndarray'>, int32\n",
      "b: <class 'torch.Tensor'>, torch.int32\n",
      "c: <class 'torch.Tensor'>, torch.int32\n",
      "d: <class 'numpy.ndarray'>, int32\n"
     ]
    }
   ],
   "source": [
    "# Example 2 - 經過轉換後，torch tensor與numpy array依然有相近的資料型態\n",
    "a = np.random.randint(low=0, high=10, size=(2,2))\n",
    "print(f'a: {type(a)}, {a.dtype}')\n",
    "b = torch.from_numpy(a)\n",
    "print(f'b: {type(b)}, {b.dtype}')\n",
    "c = torch.tensor(a)\n",
    "print(f'c: {type(c)}, {c.dtype}')\n",
    "d = c.numpy()\n",
    "print(f'd: {type(d)}, {d.dtype}')"
   ]
  },
  {
   "cell_type": "markdown",
   "metadata": {},
   "source": [
    "### Function 2 - your function to illustrate"
   ]
  },
  {
   "cell_type": "code",
   "execution_count": 11,
   "metadata": {
    "ExecuteTime": {
     "end_time": "2020-12-31T05:19:07.901138Z",
     "start_time": "2020-12-31T05:19:07.891140Z"
    }
   },
   "outputs": [
    {
     "name": "stdout",
     "output_type": "stream",
     "text": [
      "torch.Size([3, 4])\n",
      "torch.Size([3, 1, 4])\n"
     ]
    }
   ],
   "source": [
    "\"\"\"\n",
    "    torch.unsqueeze(input, dim) → Tensor\n",
    "        Returns a new tensor with a dimension of size one inserted at the specified position.\n",
    "\"\"\"\n",
    "\n",
    "\n",
    "x = torch.randn(3, 4)\n",
    "print(x.size())\n",
    "y = torch.unsqueeze(input=x, dim=1)\n",
    "print(y.size())"
   ]
  },
  {
   "cell_type": "code",
   "execution_count": 19,
   "metadata": {
    "ExecuteTime": {
     "end_time": "2020-12-31T05:22:06.129485Z",
     "start_time": "2020-12-31T05:22:06.121204Z"
    }
   },
   "outputs": [
    {
     "name": "stdout",
     "output_type": "stream",
     "text": [
      "torch.Size([3, 1, 5])\n",
      "torch.Size([3, 5])\n"
     ]
    }
   ],
   "source": [
    "\"\"\"\n",
    "    torch.squeeze(input, dim=None, *, out=None) → Tensor\n",
    "        Returns a tensor with all the dimensions of input of size 1 removed.\n",
    "\"\"\"\n",
    "\n",
    "\n",
    "x = torch.randn(3, 1, 5)\n",
    "print(x.size())\n",
    "y = torch.squeeze(input=x, dim=1)\n",
    "print(y.size())"
   ]
  },
  {
   "cell_type": "markdown",
   "metadata": {},
   "source": [
    "### Function 3 - your function to illustrate"
   ]
  },
  {
   "cell_type": "code",
   "execution_count": 20,
   "metadata": {
    "ExecuteTime": {
     "end_time": "2020-12-31T05:24:22.259423Z",
     "start_time": "2020-12-31T05:24:22.249132Z"
    }
   },
   "outputs": [
    {
     "name": "stdout",
     "output_type": "stream",
     "text": [
      "tensor([[-0.2255, -0.0549, -1.0023],\n",
      "        [ 1.2030, -0.2151, -1.5281]])\n",
      "tensor([[-0.2255,  1.2030],\n",
      "        [-0.0549, -0.2151],\n",
      "        [-1.0023, -1.5281]])\n"
     ]
    }
   ],
   "source": [
    "# Example 1 - ### your explanation ###\n",
    "\"\"\"\n",
    "    torch.transpose(input, dim0, dim1) → Tensor\n",
    "        Returns a tensor that is a transposed version of input. The given dimensions dim0 and dim1 are swapped.\n",
    "\"\"\"\n",
    "### your code ###\n",
    "\n",
    "x = torch.randn(2, 3)\n",
    "print(x)\n",
    "print(torch.transpose(input=x, dim0=0, dim1=1))"
   ]
  },
  {
   "cell_type": "code",
   "execution_count": 21,
   "metadata": {
    "ExecuteTime": {
     "end_time": "2020-12-31T05:26:31.560064Z",
     "start_time": "2020-12-31T05:26:31.552059Z"
    }
   },
   "outputs": [
    {
     "name": "stdout",
     "output_type": "stream",
     "text": [
      "torch.Size([3, 4, 5])\n",
      "torch.Size([5, 4, 3])\n"
     ]
    }
   ],
   "source": [
    "# Example 2 - ### your explanation ###\n",
    "\"\"\"\n",
    "    permute(*dims) → Tensor\n",
    "        Returns a view of the original tensor with its dimensions permuted.\n",
    "\"\"\"\n",
    "\n",
    "\n",
    "### your code ###\n",
    "x = torch.randn(3, 4, 5)\n",
    "print(x.size())\n",
    "print(x.permute(2, 1, 0).size())"
   ]
  },
  {
   "cell_type": "markdown",
   "metadata": {},
   "source": [
    "### Function 4 - your function to illustrate"
   ]
  },
  {
   "cell_type": "code",
   "execution_count": 23,
   "metadata": {
    "ExecuteTime": {
     "end_time": "2020-12-31T05:28:24.310676Z",
     "start_time": "2020-12-31T05:28:24.301875Z"
    }
   },
   "outputs": [
    {
     "name": "stdout",
     "output_type": "stream",
     "text": [
      "torch.Size([3, 4, 5])\n",
      "torch.Size([3, 20])\n"
     ]
    }
   ],
   "source": [
    "# Example 1 - ### your explanation ###\n",
    "\"\"\"\n",
    "    torch.reshape(input, shape) → Tensor\n",
    "        Returns a tensor with the same data and number of elements as input, but with the specified shape. When possible, the returned tensor will be a view of input. Otherwise, it will be a copy. Contiguous inputs and inputs with compatible strides can be reshaped without copying, but you should not depend on the copying vs. viewing behavior.\n",
    "\"\"\"\n",
    "### your code ###\n",
    "\n",
    "x = torch.randn(3, 4, 5)\n",
    "print(x.size())\n",
    "x = torch.reshape(input=x, shape=(-1, 20))\n",
    "print(x.size())"
   ]
  },
  {
   "cell_type": "code",
   "execution_count": 25,
   "metadata": {
    "ExecuteTime": {
     "end_time": "2020-12-31T05:29:40.218659Z",
     "start_time": "2020-12-31T05:29:40.208660Z"
    }
   },
   "outputs": [
    {
     "name": "stdout",
     "output_type": "stream",
     "text": [
      "torch.Size([3, 4, 5])\n",
      "torch.Size([20, 3])\n"
     ]
    }
   ],
   "source": [
    "# Example 2 - ### your explanation ###\n",
    "\"\"\"\n",
    "    view(*shape) → Tensor\n",
    "        Returns a new tensor with the same data as the self tensor but of a different shape.\n",
    "\"\"\"\n",
    "### your code ###\n",
    "x = torch.randn(3, 4, 5)\n",
    "print(x.size())\n",
    "\n",
    "print(x.view(size=(20, -1)).size())"
   ]
  },
  {
   "cell_type": "markdown",
   "metadata": {},
   "source": [
    "## others\n"
   ]
  },
  {
   "cell_type": "code",
   "execution_count": 8,
   "metadata": {
    "ExecuteTime": {
     "end_time": "2020-12-31T05:10:33.940888Z",
     "start_time": "2020-12-31T05:10:33.933886Z"
    }
   },
   "outputs": [
    {
     "name": "stdout",
     "output_type": "stream",
     "text": [
      "tensor([0, 2, 4, 6, 8], dtype=torch.int8)\n",
      "torch.Size([5])\n"
     ]
    }
   ],
   "source": [
    "# Example 1 - ### your explanation ###\n",
    "\"\"\"\n",
    "    torch.arange(start=0, end, step=1, *, out=None, \n",
    "                 dtype=None, layout=torch.strided, device=None, \n",
    "                 requires_grad=False) → Tensor\n",
    "\"\"\"\n",
    "### your code ###\n",
    "a = torch.arange(start=0, end=10, step=2, dtype=torch.int8)\n",
    "print(a)\n",
    "print(a.shape)"
   ]
  },
  {
   "cell_type": "code",
   "execution_count": 10,
   "metadata": {
    "ExecuteTime": {
     "end_time": "2020-12-31T05:14:55.569170Z",
     "start_time": "2020-12-31T05:14:55.556169Z"
    }
   },
   "outputs": [
    {
     "name": "stdout",
     "output_type": "stream",
     "text": [
      "tensor([[-1.2384,  1.5458,  0.9011,  0.2040],\n",
      "        [ 0.2400,  0.4589,  0.1948, -0.6302],\n",
      "        [ 1.5336, -0.5663, -0.4765, -0.7545]])\n",
      "tensor([[-1.2384,  1.5458,  0.9011,  0.2040],\n",
      "        [ 1.5336, -0.5663, -0.4765, -0.7545]])\n"
     ]
    }
   ],
   "source": [
    "# Example 2 - ### your explanation ###\n",
    "\"\"\"\n",
    "    torch.index_select(input, dim, index, *, out=None) → Tensor\n",
    "        Returns a new tensor which indexes the input tensor along dimension dim using the entries in index which is a LongTensor.\n",
    "\"\"\"\n",
    "### your code ###\n",
    "\n",
    "x = torch.randn(3, 4)\n",
    "print(x)\n",
    "indices = torch.tensor([0, 2])\n",
    "y = torch.index_select(input=x, dim=0, index=indices)\n",
    "print(y)"
   ]
  }
 ],
 "metadata": {
  "kernelspec": {
   "display_name": "Python 3.7.3 64-bit",
   "language": "python",
   "name": "python37364bit6893c7013b164b1189a865dcaea9fb2f"
  }
 },
 "nbformat": 4,
 "nbformat_minor": 2
}
