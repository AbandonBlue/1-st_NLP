{
  "nbformat": 4,
  "nbformat_minor": 0,
  "metadata": {
    "kernelspec": {
      "display_name": "cupoy_env",
      "language": "python",
      "name": "cupoy_env"
    },
    "language_info": {
      "codemirror_mode": {
        "name": "ipython",
        "version": 3
      },
      "file_extension": ".py",
      "mimetype": "text/x-python",
      "name": "python",
      "nbconvert_exporter": "python",
      "pygments_lexer": "ipython3",
      "version": "3.7.3"
    },
    "colab": {
      "name": "Day11_word2vec推論方法詞向量作業.ipynb",
      "provenance": []
    }
  },
  "cells": [
    {
      "cell_type": "markdown",
      "metadata": {
        "id": "EIKLgOK-jD3F"
      },
      "source": [
        "### 作業目的: 了解為何需要推論方法的詞向量及其優缺點\n",
        "\n",
        "本次作業主要為思考題，請學員根據題目思考適合的回答"
      ]
    },
    {
      "cell_type": "markdown",
      "metadata": {
        "id": "t2yq48arjD3M"
      },
      "source": [
        "### Q1:\n",
        "請學員思考為何不直接使用one-hot encoding的方式建立詞向量，而要有其他計數方法與推論方法的詞向量產生方式？"
      ]
    },
    {
      "cell_type": "markdown",
      "metadata": {
        "id": "G6jvvnsejD3N"
      },
      "source": [
        "### Answer:\n",
        "\n",
        "- 因為one-hot不考慮詞語之間的上下文關係。\n",
        "- 因為維度會爆炸，隨著word上升。\n",
        "- 因為one-hot只考慮出現與否，不考慮次數以及位置。\n",
        "- 因為實際task常常會需要去計算相似性，而這樣方法得到的word embedding，相互之間是獨立的(相似性為0)，但這非常不合哩，如\"資料\"、\"資訊\"，這兩詞之間雖有差異，但應該相似性會有一定的程度。"
      ]
    },
    {
      "cell_type": "markdown",
      "metadata": {
        "id": "dZxip6ggjD3O"
      },
      "source": [
        "### Q2:\n",
        "相較於計數手法的詞向量(ex: one-hot, 共現矩陣, PPMI)，word2vec的方法有何優點？"
      ]
    },
    {
      "cell_type": "markdown",
      "metadata": {
        "id": "HDO3nqQHjD3O"
      },
      "source": [
        "### Answer:\n",
        "- 維度適當，可以透過維度指定，讓embedding不會太大。\n",
        "- 透過訓練，word之間的關係會更明確。\n",
        "- 可以計算相似性\n",
        "- 可以平行訓練"
      ]
    },
    {
      "cell_type": "code",
      "metadata": {
        "id": "Jbr-V4jijD3P"
      },
      "source": [
        ""
      ],
      "execution_count": null,
      "outputs": []
    }
  ]
}