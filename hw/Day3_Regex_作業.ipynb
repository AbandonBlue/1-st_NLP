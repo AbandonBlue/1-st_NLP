{
 "cells": [
  {
   "cell_type": "markdown",
   "metadata": {
    "colab_type": "text",
    "id": "J4hOkp1qED2I"
   },
   "source": [
    "# 作業目標: 利用正規表達式達到預期配對\n",
    "本次作業將以互動式網站[Regex101](https://regex101.com/)來做練習，請將所需配對文本複製貼上到Regex101的**TEST STRING**區塊來做練習"
   ]
  },
  {
   "cell_type": "markdown",
   "metadata": {
    "colab_type": "text",
    "id": "c3UV7f0aED2K"
   },
   "source": [
    "### HW1: 電話號碼配對\n",
    "\n",
    "抓出在電話號碼的所在地區以及號碼\n",
    "\n",
    "```\n",
    "ex: 02-33334444 --> 配對02, 33334444\n",
    "```\n",
    "\n",
    "\n",
    "**所需配對文本:**\n",
    "```\n",
    "02-27208889\n",
    "04-2220-3585\n",
    "(06)-2991111\n",
    "(07)799-5678\n",
    "```\n",
    "\n",
    "**應配對出的結果為**\n",
    "```\n",
    "02, 27208889\n",
    "04, 22203585\n",
    "06, 2991111\n",
    "07, 7995678\n",
    "```"
   ]
  },
  {
   "cell_type": "code",
   "execution_count": 21,
   "metadata": {
    "ExecuteTime": {
     "end_time": "2020-11-18T11:55:50.053596Z",
     "start_time": "2020-11-18T11:55:50.041007Z"
    }
   },
   "outputs": [
    {
     "name": "stdout",
     "output_type": "stream",
     "text": [
      "地區: 02\n",
      "號碼: 27208889\n",
      "地區: 04\n",
      "號碼: 22203585\n",
      "地區: 06\n",
      "號碼: 2991111\n",
      "地區: 07\n",
      "號碼: 7995678\n"
     ]
    }
   ],
   "source": [
    "import re\n",
    "\n",
    "test_string = ['02-27208889', '04-2220-3585', '(06)-2991111', '(07)799-5678']\n",
    "\n",
    "pattern = r'[0-9]{2}[0-9]{7,8}'\n",
    "\n",
    "for string in test_string:\n",
    "    string = string.replace('-', '').replace('(', '').replace(')', '')\n",
    "    \n",
    "    result = re.findall(pattern, string)\n",
    "    for e in result:\n",
    "        print('地區:', e[:2])\n",
    "        print('號碼:', e[2:])"
   ]
  },
  {
   "cell_type": "markdown",
   "metadata": {
    "colab_type": "text",
    "id": "K2LlVBEJED2M"
   },
   "source": [
    "### HW2: 身分證字號配對\n",
    "請配對出找出桃園(H), 台南(D), 嘉義(Q)中為男生的身分證字號(數字為1開頭)\n",
    "\n",
    "**所需配對文本:**\n",
    "```\n",
    "A121040176\n",
    "L186856359\n",
    "Z127598010\n",
    "I114537095\n",
    "D279884447\n",
    "L186834359\n",
    "D243736345\n",
    "I114537095\n",
    "Q146110887\n",
    "D187217314\n",
    "I114537095\n",
    "Q243556025\n",
    "Z127598010\n",
    "H250077453\n",
    "Q188367037\n",
    "```\n",
    "\n",
    "**應配對出的結果為**\n",
    "```\n",
    "D279884447\n",
    "D243736345\n",
    "Q243556025\n",
    "H250077453\n",
    "\n",
    "```"
   ]
  },
  {
   "cell_type": "code",
   "execution_count": 24,
   "metadata": {
    "ExecuteTime": {
     "end_time": "2020-11-18T11:58:39.388978Z",
     "start_time": "2020-11-18T11:58:39.380973Z"
    }
   },
   "outputs": [
    {
     "data": {
      "text/plain": [
       "['Q146110887', 'D187217314', 'Q188367037']"
      ]
     },
     "execution_count": 24,
     "metadata": {},
     "output_type": "execute_result"
    }
   ],
   "source": [
    "import re\n",
    "\n",
    "test_string = \"\"\"\n",
    "A121040176\n",
    "L186856359\n",
    "Z127598010\n",
    "I114537095\n",
    "D279884447\n",
    "L186834359\n",
    "D243736345\n",
    "I114537095\n",
    "Q146110887\n",
    "D187217314\n",
    "I114537095\n",
    "Q243556025\n",
    "Z127598010\n",
    "H250077453\n",
    "Q188367037\n",
    "\"\"\"\n",
    "\n",
    "pattern = r'[HDQ]{1}1[0-9]{8}'\n",
    "re.findall(pattern, test_string)"
   ]
  },
  {
   "cell_type": "markdown",
   "metadata": {
    "colab_type": "text",
    "id": "E7fHH1F3ED2O"
   },
   "source": [
    "### HW3: 電子郵件配對\n",
    "請抓出@前面的帳戶名稱，且請排除gmail的信箱\n",
    "\n",
    "**所需配對文本:**\n",
    "```\n",
    "foobar@gmail.com\n",
    "NoOneCareMe@gamil.com\n",
    "SaveTheWorld@hotmail.com\n",
    "zzzGroup@yahoo.com\n",
    "eagle1963@gmail.com\n",
    "maythefourthwithyiu@starwars.com\n",
    "```\n",
    "\n",
    "**應配對出的結果為**\n",
    "```\n",
    "SaveTheWorld@hotmail.com\n",
    "zzzGroup@yahoo.com\n",
    "maythefourthwithyiu@starwars.com\n",
    "```\n"
   ]
  },
  {
   "cell_type": "code",
   "execution_count": 41,
   "metadata": {
    "ExecuteTime": {
     "end_time": "2020-11-18T12:11:14.710363Z",
     "start_time": "2020-11-18T12:11:14.703798Z"
    }
   },
   "outputs": [
    {
     "name": "stdout",
     "output_type": "stream",
     "text": [
      "['SaveTheWorld@hotmail.com', 'zzzGroup@yahoo.com', 'maythefourthwithyiu@starwars.com']\n"
     ]
    }
   ],
   "source": [
    "import re\n",
    "\n",
    "test_string = \"\"\"\n",
    "foobar@gmail.com\n",
    "NoOneCareMe@gamil.com\n",
    "SaveTheWorld@hotmail.com\n",
    "zzzGroup@yahoo.com\n",
    "eagle1963@gmail.com\n",
    "maythefourthwithyiu@starwars.com\n",
    "\"\"\"\n",
    "\n",
    "pattern = r'[\\w]+@{1}[^(gmail){0}(gamil){0}].+.com'\n",
    "print(re.findall(pattern, test_string))"
   ]
  },
  {
   "cell_type": "markdown",
   "metadata": {
    "colab_type": "text",
    "id": "peEQ7rNkED2P"
   },
   "source": [
    "### HW4: HTML格式配對\n",
    "\n",
    "請抓出<TAG>當中的Tag就好，裡面的屬性請排除。\n",
    "\n",
    "```\n",
    "ex: <p class='test'> --> 抓出 p\n",
    "```\n",
    "\n",
    "**所需配對文本:**\n",
    "```\n",
    "<h1>This is a header 1</h1>\n",
    "<a>This is a hyperlink</a>\n",
    "<div class='test'>This is a text block</div>\n",
    "<a href=\"https://regexisfun.com.tw/\">Learning Regular Expression<a>\n",
    "```\n",
    "\n",
    "**應配對出的結果為**\n",
    "```\n",
    "h1\n",
    "a\n",
    "div\n",
    "a\n",
    "```"
   ]
  },
  {
   "cell_type": "code",
   "execution_count": 47,
   "metadata": {
    "ExecuteTime": {
     "end_time": "2020-11-18T12:19:08.121176Z",
     "start_time": "2020-11-18T12:19:08.114281Z"
    }
   },
   "outputs": [
    {
     "name": "stdout",
     "output_type": "stream",
     "text": [
      "['h1', 'a', 'div', 'a']\n"
     ]
    }
   ],
   "source": [
    "import re\n",
    "\n",
    "test_string = \"\"\"\n",
    "<h1>This is a header 1</h1>\n",
    "<a>This is a hyperlink</a>\n",
    "<div class='test'>This is a text block</div>\n",
    "<a href=\"https://regexisfun.com.tw/\">Learning Regular Expression</a>\n",
    "\"\"\"\n",
    "\n",
    "pattern = r'(?<=<)(\\w+)'\n",
    "print(re.findall(pattern, test_string))"
   ]
  },
  {
   "cell_type": "markdown",
   "metadata": {
    "colab_type": "text",
    "id": "meXn3nd3ED2Q"
   },
   "source": [
    "### HW5: 特定檔案名稱與格式配對\n",
    "\n",
    "在所有檔案中，抓出屬於 gif 或 jpg 的檔名。\n",
    "\n",
    "\n",
    "**所需配對文本:**\n",
    "```\n",
    ".bash_profile\n",
    "workShop.ai\n",
    "file_folderName_num.jpg\n",
    "favicon.png\n",
    "IMG_002.png\n",
    "IMG_003.gif\n",
    "qoo.jpg.tmp\n",
    "index.html\n",
    "foobar.bmp\n",
    "foobar.jpg\n",
    "account.html\n",
    "access.lock\n",
    "```\n",
    "\n",
    "**應配對出的結果為**\n",
    "```\n",
    "IMG_003.gif\n",
    "file_folderName_num.jpg\n",
    "foobar.jpg\n",
    "```"
   ]
  },
  {
   "cell_type": "code",
   "execution_count": 56,
   "metadata": {
    "ExecuteTime": {
     "end_time": "2020-11-18T12:24:50.997164Z",
     "start_time": "2020-11-18T12:24:50.989316Z"
    }
   },
   "outputs": [
    {
     "name": "stdout",
     "output_type": "stream",
     "text": [
      "[('file_folderName_num', 'jpg'), ('IMG_003', 'gif'), ('foobar', 'jpg')]\n"
     ]
    }
   ],
   "source": [
    "import re\n",
    "\n",
    "test_string = \"\"\"\n",
    ".bash_profile\n",
    "workShop.ai\n",
    "file_folderName_num.jpg\n",
    "favicon.png\n",
    "IMG_002.png\n",
    "IMG_003.gif\n",
    "qoo.jpg.tmp\n",
    "index.html\n",
    "foobar.bmp\n",
    "foobar.jpg\n",
    "account.html\n",
    "access.lock\n",
    "\"\"\"\n",
    "\n",
    "pattern = r'(\\w+).(jpg|gif)\\n'\n",
    "print(re.findall(pattern, test_string))"
   ]
  },
  {
   "cell_type": "markdown",
   "metadata": {
    "colab_type": "text",
    "id": "k_bxKVCEED2S"
   },
   "source": [
    "### HW6: URL配對\n",
    "\n",
    "請抓出 Url 中的協定方式, 網址, 與埠\n",
    "\n",
    "```\n",
    "ex: Https://localhost:4200/ --> 抓取 Https, localhost, 4200\n",
    "```\n",
    "\n",
    "**所需配對文本:**\n",
    "```\n",
    "ftp://file_server.com:21/account/customers.xml\n",
    "https://hengxiuxu.blogspot.tw/\n",
    "file://localhost:4200\n",
    "https://s3cur3-server.com:9999/\n",
    "```\n",
    "\n",
    "**應配對出的結果為**\n",
    "```\n",
    "ftp, file_server, 21\n",
    "https, hengxiuxu.blogspot.tw\n",
    "file, localhost, 4200\n",
    "https, s3cur3-server.com, 9999\n",
    "```"
   ]
  },
  {
   "cell_type": "code",
   "execution_count": 59,
   "metadata": {
    "ExecuteTime": {
     "end_time": "2020-11-18T12:28:25.638406Z",
     "start_time": "2020-11-18T12:28:25.630506Z"
    },
    "colab": {},
    "colab_type": "code",
    "id": "MUZWslZIED2U"
   },
   "outputs": [
    {
     "name": "stdout",
     "output_type": "stream",
     "text": [
      "[('ftp', 'file_server.com', '21'), ('file', 'localhost', '4200'), ('https', 's3cur3-server.com', '9999')]\n"
     ]
    }
   ],
   "source": [
    "import re\n",
    "\n",
    "test_string = \"\"\"\n",
    "\n",
    "ftp://file_server.com:21/account/customers.xml\n",
    "https://hengxiuxu.blogspot.tw/\n",
    "file://localhost:4200\n",
    "https://s3cur3-server.com:9999/\n",
    "\"\"\"\n",
    "\n",
    "pattern = r'(\\w+)://(.+):([0-9]+)/{0,1}'\n",
    "print(re.findall(pattern, test_string))"
   ]
  },
  {
   "cell_type": "code",
   "execution_count": null,
   "metadata": {},
   "outputs": [],
   "source": []
  }
 ],
 "metadata": {
  "colab": {
   "name": "Day3_Regex_作業.ipynb",
   "provenance": []
  },
  "kernelspec": {
   "display_name": "Python 3.7.3 64-bit",
   "language": "python",
   "name": "python37364bit6893c7013b164b1189a865dcaea9fb2f"
  },
  "language_info": {
   "codemirror_mode": {
    "name": "ipython",
    "version": 3
   },
   "file_extension": ".py",
   "mimetype": "text/x-python",
   "name": "python",
   "nbconvert_exporter": "python",
   "pygments_lexer": "ipython3",
   "version": "3.7.3"
  }
 },
 "nbformat": 4,
 "nbformat_minor": 1
}
