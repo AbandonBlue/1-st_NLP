{
 "cells": [
  {
   "cell_type": "markdown",
   "metadata": {},
   "source": [
    "# 作業目標：運用課程所學，操作字串達到預期輸出"
   ]
  },
  {
   "cell_type": "markdown",
   "metadata": {},
   "source": [
    "---"
   ]
  },
  {
   "cell_type": "markdown",
   "metadata": {},
   "source": [
    "### isnumeric(), isdigit(), isdecimal() 各有幾個"
   ]
  },
  {
   "cell_type": "code",
   "execution_count": 1,
   "metadata": {
    "ExecuteTime": {
     "end_time": "2020-11-17T14:46:09.322476Z",
     "start_time": "2020-11-17T14:46:09.316472Z"
    }
   },
   "outputs": [],
   "source": [
    "test_string = ['5.9', '30', '½', '³', '⑬']"
   ]
  },
  {
   "cell_type": "code",
   "execution_count": 8,
   "metadata": {
    "ExecuteTime": {
     "end_time": "2020-11-17T14:54:29.474262Z",
     "start_time": "2020-11-17T14:54:29.465295Z"
    }
   },
   "outputs": [],
   "source": [
    "def spam(s):\n",
    "    isnumeric_count, isdigit_count, isdecimal_count = 0, 0, 0\n",
    "    for string in s:\n",
    "        if string.isnumeric():\n",
    "            isnumeric_count += 1\n",
    "        if string.isdigit():\n",
    "            isdigit_count += 1\n",
    "        if string.isdecimal():\n",
    "            isdecimal_count += 1\n",
    "    return isnumeric_count, isdigit_count, isdecimal_count"
   ]
  },
  {
   "cell_type": "code",
   "execution_count": 9,
   "metadata": {
    "ExecuteTime": {
     "end_time": "2020-11-17T14:54:30.281785Z",
     "start_time": "2020-11-17T14:54:30.273784Z"
    }
   },
   "outputs": [
    {
     "name": "stdout",
     "output_type": "stream",
     "text": [
      "isnumeric_count: 4\n",
      "isdigit_count: 2\n",
      "isdecimal_count: 1\n"
     ]
    }
   ],
   "source": [
    "isnumeric_count, isdigit_count, isdecimal_count = spam(test_string)\n",
    "print('isnumeric_count: {}'.format(isnumeric_count))     \n",
    "print('isdigit_count: {}'.format(isdigit_count))     \n",
    "print('isdecimal_count: {}'.format(isdecimal_count))  "
   ]
  },
  {
   "cell_type": "markdown",
   "metadata": {},
   "source": [
    "---"
   ]
  },
  {
   "cell_type": "markdown",
   "metadata": {},
   "source": [
    "## 運用formatting 技巧 output\n",
    "    * Accuracy: 98.13%, Recall: 94.88%, Precision: 96.29%"
   ]
  },
  {
   "cell_type": "code",
   "execution_count": 24,
   "metadata": {
    "ExecuteTime": {
     "end_time": "2020-11-17T15:13:38.142641Z",
     "start_time": "2020-11-17T15:13:38.139644Z"
    }
   },
   "outputs": [],
   "source": [
    "accuracy = 98.129393 / 100\n",
    "recall =   94.879583 / 100\n",
    "precision =96.294821 / 100"
   ]
  },
  {
   "cell_type": "code",
   "execution_count": 25,
   "metadata": {
    "ExecuteTime": {
     "end_time": "2020-11-17T15:13:38.378020Z",
     "start_time": "2020-11-17T15:13:38.372018Z"
    }
   },
   "outputs": [
    {
     "name": "stdout",
     "output_type": "stream",
     "text": [
      "練習部分\n",
      "98.13%\n",
      "94.88%\n",
      "96.29%\n"
     ]
    }
   ],
   "source": [
    "print('練習部分')\n",
    "\n",
    "print('{:.2%}'.format(accuracy))\n",
    "print('{:.2%}'.format(recall))\n",
    "print('{:.2%}'.format(precision))"
   ]
  },
  {
   "cell_type": "code",
   "execution_count": 50,
   "metadata": {},
   "outputs": [],
   "source": [
    "accuracy = 0.98129393\n",
    "recall =   0.94879583\n",
    "precision =0.96294821"
   ]
  },
  {
   "cell_type": "code",
   "execution_count": 26,
   "metadata": {
    "ExecuteTime": {
     "end_time": "2020-11-17T15:13:56.036345Z",
     "start_time": "2020-11-17T15:13:56.029342Z"
    }
   },
   "outputs": [
    {
     "name": "stdout",
     "output_type": "stream",
     "text": [
      "練習部分\n",
      "98.13%\n",
      "94.88%\n",
      "96.29%\n"
     ]
    }
   ],
   "source": [
    "print('練習部分')\n",
    "print('{:.2%}'.format(accuracy))\n",
    "print('{:.2%}'.format(recall))\n",
    "print('{:.2%}'.format(precision))"
   ]
  },
  {
   "cell_type": "markdown",
   "metadata": {},
   "source": [
    "---"
   ]
  },
  {
   "cell_type": "markdown",
   "metadata": {},
   "source": [
    "## 依照只是轉換number output format"
   ]
  },
  {
   "cell_type": "code",
   "execution_count": 27,
   "metadata": {
    "ExecuteTime": {
     "end_time": "2020-11-17T15:14:02.219478Z",
     "start_time": "2020-11-17T15:14:02.214470Z"
    }
   },
   "outputs": [],
   "source": [
    "number = 3.1415926"
   ]
  },
  {
   "cell_type": "markdown",
   "metadata": {},
   "source": [
    "#### 轉換為科學符號表示法 (小數點後兩位)"
   ]
  },
  {
   "cell_type": "code",
   "execution_count": 30,
   "metadata": {
    "ExecuteTime": {
     "end_time": "2020-11-17T15:15:33.639848Z",
     "start_time": "2020-11-17T15:15:33.635846Z"
    }
   },
   "outputs": [
    {
     "name": "stdout",
     "output_type": "stream",
     "text": [
      "練習部分\n",
      "3.141593e+00\n"
     ]
    }
   ],
   "source": [
    "print('練習部分')\n",
    "\n",
    "print('%e' % (number))"
   ]
  },
  {
   "cell_type": "markdown",
   "metadata": {},
   "source": [
    "#### 轉換為%"
   ]
  },
  {
   "cell_type": "code",
   "execution_count": 35,
   "metadata": {
    "ExecuteTime": {
     "end_time": "2020-11-17T15:17:39.567790Z",
     "start_time": "2020-11-17T15:17:39.562788Z"
    }
   },
   "outputs": [
    {
     "name": "stdout",
     "output_type": "stream",
     "text": [
      "練習部分\n",
      "3.1415926%\n"
     ]
    }
   ],
   "source": [
    "print('練習部分')\n",
    "\n",
    "print('%s%%' % number)"
   ]
  },
  {
   "cell_type": "markdown",
   "metadata": {},
   "source": [
    "#### 補零成為3.14159300"
   ]
  },
  {
   "cell_type": "code",
   "execution_count": 38,
   "metadata": {
    "ExecuteTime": {
     "end_time": "2020-11-17T15:19:40.072317Z",
     "start_time": "2020-11-17T15:19:40.066319Z"
    }
   },
   "outputs": [
    {
     "name": "stdout",
     "output_type": "stream",
     "text": [
      "練習部分\n",
      "3.14159260\n"
     ]
    }
   ],
   "source": [
    "print('練習部分')\n",
    "\n",
    "print('{:.8f}'.format(number))"
   ]
  },
  {
   "cell_type": "code",
   "execution_count": null,
   "metadata": {},
   "outputs": [],
   "source": []
  }
 ],
 "metadata": {
  "kernelspec": {
   "display_name": "Python 3",
   "language": "python",
   "name": "python3"
  },
  "language_info": {
   "codemirror_mode": {
    "name": "ipython",
    "version": 3
   },
   "file_extension": ".py",
   "mimetype": "text/x-python",
   "name": "python",
   "nbconvert_exporter": "python",
   "pygments_lexer": "ipython3",
   "version": "3.7.7"
  }
 },
 "nbformat": 4,
 "nbformat_minor": 2
}
