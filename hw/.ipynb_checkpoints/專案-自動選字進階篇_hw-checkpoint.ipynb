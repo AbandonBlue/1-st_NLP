{
 "cells": [
  {
   "cell_type": "markdown",
   "metadata": {},
   "source": [
    "# 自製智能中文選字系統  (2)"
   ]
  },
  {
   "cell_type": "code",
   "execution_count": 1,
   "metadata": {
    "ExecuteTime": {
     "end_time": "2021-04-10T21:05:30.273904Z",
     "start_time": "2021-04-10T21:05:30.250906Z"
    }
   },
   "outputs": [
    {
     "data": {
      "text/plain": [
       "'3.7.3 (v3.7.3:ef4ec6ed12, Mar 25 2019, 22:22:05) [MSC v.1916 64 bit (AMD64)]'"
      ]
     },
     "execution_count": 1,
     "metadata": {},
     "output_type": "execute_result"
    }
   ],
   "source": [
    "import sys\n",
    "sys.version"
   ]
  },
  {
   "cell_type": "markdown",
   "metadata": {},
   "source": [
    "確認版本為 python3"
   ]
  },
  {
   "cell_type": "markdown",
   "metadata": {},
   "source": [
    "## 資料前處理"
   ]
  },
  {
   "cell_type": "code",
   "execution_count": 2,
   "metadata": {
    "ExecuteTime": {
     "end_time": "2021-04-10T21:05:32.051825Z",
     "start_time": "2021-04-10T21:05:32.031828Z"
    }
   },
   "outputs": [],
   "source": [
    "import re"
   ]
  },
  {
   "cell_type": "code",
   "execution_count": 3,
   "metadata": {
    "ExecuteTime": {
     "end_time": "2021-04-10T21:05:34.387735Z",
     "start_time": "2021-04-10T21:05:34.369644Z"
    }
   },
   "outputs": [],
   "source": [
    "def prepocess_line(line):\n",
    "    chinese_pattern = r'[\\u4E00-\\u9FFF]+'\n",
    "    segments = re.findall(chinese_pattern, line, flags=re.UNICODE)\n",
    "    return segments"
   ]
  },
  {
   "cell_type": "code",
   "execution_count": 5,
   "metadata": {
    "ExecuteTime": {
     "end_time": "2021-04-10T21:05:50.934956Z",
     "start_time": "2021-04-10T21:05:50.882393Z"
    },
    "tags": []
   },
   "outputs": [],
   "source": [
    "segments = []\n",
    "with open('./datasets/wiki_zh_small.txt', encoding='utf8') as fr:\n",
    "    for line in fr.readlines():\n",
    "        segments += prepocess_line(line)"
   ]
  },
  {
   "cell_type": "code",
   "execution_count": 6,
   "metadata": {
    "ExecuteTime": {
     "end_time": "2021-04-10T21:05:58.623059Z",
     "start_time": "2021-04-10T21:05:58.615064Z"
    }
   },
   "outputs": [
    {
     "data": {
      "text/plain": [
       "['英語',\n",
       " '英語英語',\n",
       " '又稱爲英文',\n",
       " '是一種西日耳曼語言',\n",
       " '誕生於中世紀早期的英格蘭',\n",
       " '如今具有全球通用語的地位',\n",
       " '英語',\n",
       " '一詞源於遷居英格蘭的日耳曼部落盎格魯',\n",
       " '而',\n",
       " '盎格魯']"
      ]
     },
     "execution_count": 6,
     "metadata": {},
     "output_type": "execute_result"
    }
   ],
   "source": [
    "segments[:10]"
   ]
  },
  {
   "cell_type": "markdown",
   "metadata": {},
   "source": [
    "## 斷詞"
   ]
  },
  {
   "cell_type": "code",
   "execution_count": 7,
   "metadata": {
    "ExecuteTime": {
     "end_time": "2021-04-10T21:06:10.019692Z",
     "start_time": "2021-04-10T21:06:04.109110Z"
    },
    "tags": []
   },
   "outputs": [
    {
     "name": "stdout",
     "output_type": "stream",
     "text": [
      "Defaulting to user installation because normal site-packages is not writeable\n",
      "Requirement already satisfied: jieba in c:\\users\\aband\\appdata\\roaming\\python\\python37\\site-packages (0.42.1)\n"
     ]
    },
    {
     "name": "stderr",
     "output_type": "stream",
     "text": [
      "WARNING: pip is being invoked by an old script wrapper. This will fail in a future version of pip.\n",
      "Please see https://github.com/pypa/pip/issues/5599 for advice on fixing the underlying issue.\n",
      "To avoid this problem you can invoke Python with '-m pip' instead of running pip directly.\n"
     ]
    }
   ],
   "source": [
    "!pip install jieba"
   ]
  },
  {
   "cell_type": "code",
   "execution_count": 8,
   "metadata": {
    "ExecuteTime": {
     "end_time": "2021-04-10T21:06:28.756656Z",
     "start_time": "2021-04-10T21:06:27.873243Z"
    }
   },
   "outputs": [],
   "source": [
    "import jieba"
   ]
  },
  {
   "cell_type": "code",
   "execution_count": 9,
   "metadata": {
    "ExecuteTime": {
     "end_time": "2021-04-10T21:06:32.854232Z",
     "start_time": "2021-04-10T21:06:32.039897Z"
    },
    "tags": []
   },
   "outputs": [
    {
     "name": "stderr",
     "output_type": "stream",
     "text": [
      "Building prefix dict from the default dictionary ...\n",
      "Loading model from cache C:\\Users\\aband\\AppData\\Local\\Temp\\jieba.cache\n",
      "Loading model cost 0.800 seconds.\n",
      "Prefix dict has been built successfully.\n"
     ]
    },
    {
     "data": {
      "text/plain": [
       "['所以', '僅用', '於', '還原', '一些', '貴重', '的', '化合', '化合物']"
      ]
     },
     "execution_count": 9,
     "metadata": {},
     "output_type": "execute_result"
    }
   ],
   "source": [
    "# 參考: https://blog.csdn.net/laobai1015/article/details/80420016?utm_medium=distribute.pc_relevant.none-task-blog-2%7Edefault%7EBlogCommendFromMachineLearnPai2%7Edefault-1.control&dist_request_id=&depth_1-utm_source=distribute.pc_relevant.none-task-blog-2%7Edefault%7EBlogCommendFromMachineLearnPai2%7Edefault-1.control\n",
    "# cut_for_search: 方法接受两个参数：需要分词的字符串；是否使用 HMM 模型。该方法适合用于搜索引擎构建倒排索引的分词，粒度比较细\n",
    "list(jieba.cut_for_search(segments[6001]))"
   ]
  },
  {
   "cell_type": "code",
   "execution_count": 11,
   "metadata": {
    "ExecuteTime": {
     "end_time": "2021-04-10T21:12:19.265096Z",
     "start_time": "2021-04-10T21:12:14.877032Z"
    },
    "tags": []
   },
   "outputs": [
    {
     "data": {
      "text/plain": [
       "['英語', '英語', '英語', '又', '稱', '爲', '英文', '是', '一種', '西']"
      ]
     },
     "execution_count": 11,
     "metadata": {},
     "output_type": "execute_result"
    }
   ],
   "source": [
    "cut_segments = []\n",
    "for seg in segments:\n",
    "    # 使用結巴斷詞的 cut_for_search\n",
    "    # YOUR CODE HERE\n",
    "    cut_segments += list(jieba.cut_for_search(seg))\n",
    "    # END YOUR CODE\n",
    "cut_segments[:10]"
   ]
  },
  {
   "cell_type": "markdown",
   "metadata": {},
   "source": [
    "## 使用斷詞的結果來作Ngram"
   ]
  },
  {
   "cell_type": "code",
   "execution_count": 12,
   "metadata": {
    "ExecuteTime": {
     "end_time": "2021-04-10T21:12:26.098485Z",
     "start_time": "2021-04-10T21:12:26.066481Z"
    }
   },
   "outputs": [],
   "source": [
    "from collections import Counter\n",
    "\n",
    "class Counters:\n",
    "    def __init__(self, n):\n",
    "        self.n = n\n",
    "        self.counters = [Counter() for _ in range(n + 1)]\n",
    "\n",
    "    def fit(self, segments):\n",
    "        for i in range(1, 1 + self.n):\n",
    "            for segment in segments:\n",
    "                self.counters[i] += Counter(self._skip(segment, i))\n",
    "\n",
    "        base_count = sum(dict(self.counters[1]).values())\n",
    "        self.counters[0] = Counter({'': base_count})\n",
    "\n",
    "    def __getitem__(self, k):\n",
    "        return self.counters[k]\n",
    "\n",
    "    def _skip(self, segment, n):\n",
    "        assert n > 0\n",
    "        if len(segment) < n:\n",
    "            return []\n",
    "        shift = n - 1\n",
    "        for i in range(len(segment) - shift):\n",
    "            yield segment[i:i+shift+1]"
   ]
  },
  {
   "cell_type": "code",
   "execution_count": 13,
   "metadata": {
    "ExecuteTime": {
     "end_time": "2021-04-10T21:22:01.384067Z",
     "start_time": "2021-04-10T21:12:27.166658Z"
    }
   },
   "outputs": [],
   "source": [
    "counters = Counters(n=5)\n",
    "counters.fit(cut_segments)"
   ]
  },
  {
   "cell_type": "code",
   "execution_count": 14,
   "metadata": {
    "ExecuteTime": {
     "end_time": "2021-04-10T21:22:01.416131Z",
     "start_time": "2021-04-10T21:22:01.390083Z"
    }
   },
   "outputs": [],
   "source": [
    "class Ngram:\n",
    "    def __init__(self, n, counters):\n",
    "        assert n <= counters.n\n",
    "        self.n = n\n",
    "        self.major_counter = counters[n]\n",
    "        self.minor_counter = counters[n-1]\n",
    "\n",
    "    def predict_proba(self, prefix='', top_k=5):\n",
    "        assert len(prefix) >= self.n - 1\n",
    "\n",
    "        reference = prefix[-(self.n - 1):] if self.n > 1 else ''\n",
    "        count_referecne = self.minor_counter[reference]\n",
    "        probs = []\n",
    "        for key, count in dict(self.major_counter).items():\n",
    "            if key.startswith(reference):\n",
    "                prob = count / count_referecne\n",
    "                probs.append((prob, key[-1]))\n",
    "        sorted_probs = sorted(probs, reverse=True)\n",
    "        return sorted_probs[:top_k] if top_k > 0 else sorted_probs\n",
    "\n",
    "    def get_proba_dict(self, prefix=''):\n",
    "        return {word: prob for prob, word in self.predict_proba(prefix, top_k=-1)}"
   ]
  },
  {
   "cell_type": "code",
   "execution_count": 15,
   "metadata": {
    "ExecuteTime": {
     "end_time": "2021-04-10T21:22:01.435078Z",
     "start_time": "2021-04-10T21:22:01.419078Z"
    }
   },
   "outputs": [],
   "source": [
    "ngrams = [Ngram(i, counters) for i in range(1, 6)]"
   ]
  },
  {
   "cell_type": "code",
   "execution_count": 20,
   "metadata": {
    "ExecuteTime": {
     "end_time": "2021-04-10T21:27:30.077884Z",
     "start_time": "2021-04-10T21:27:30.048366Z"
    }
   },
   "outputs": [
    {
     "data": {
      "text/plain": [
       "{'想': 0.3465346534653465,\n",
       " '考': 0.10891089108910891,\n",
       " '維': 0.0891089108910891,\n",
       " '汗': 0.06930693069306931,\n",
       " '聰': 0.009900990099009901,\n",
       " '源': 0.009900990099009901,\n",
       " '成': 0.009900990099009901,\n",
       " '性': 0.009900990099009901,\n",
       " '廣': 0.009900990099009901,\n",
       " '騁': 0.0049504950495049506,\n",
       " '邈': 0.0049504950495049506,\n",
       " '華': 0.0049504950495049506,\n",
       " '義': 0.0049504950495049506,\n",
       " '無': 0.0049504950495049506,\n",
       " '樓': 0.0049504950495049506,\n",
       " '明': 0.0049504950495049506,\n",
       " '州': 0.0049504950495049506,\n",
       " '南': 0.0049504950495049506,\n",
       " '作': 0.0049504950495049506,\n",
       " '主': 0.0049504950495049506}"
      ]
     },
     "execution_count": 20,
     "metadata": {},
     "output_type": "execute_result"
    }
   ],
   "source": [
    "ngrams[1].get_proba_dict('我思')"
   ]
  },
  {
   "cell_type": "markdown",
   "metadata": {},
   "source": [
    "## 使用Smoothing of Language Models來建立第二版選字系統"
   ]
  },
  {
   "cell_type": "code",
   "execution_count": 27,
   "metadata": {
    "ExecuteTime": {
     "end_time": "2021-04-10T21:40:47.619963Z",
     "start_time": "2021-04-10T21:40:47.601965Z"
    }
   },
   "outputs": [],
   "source": [
    "class ChineseWordRecommenderV2:\n",
    "    def __init__(self, ngrams):\n",
    "        self.ngrams = ngrams\n",
    "    \n",
    "    def predict_proba(self, prefix='', top_k=5):\n",
    "        interpolation_lambda = 0.99    # 超參數\n",
    "        proba_dicts = [ngram.get_proba_dict(prefix) for ngram in ngrams[:len(prefix)+1]]    # 過長的不適用ngram, 要看prefix長度\n",
    "\n",
    "        \n",
    "        # 在此你可以選擇兩種 Smoothing of Language Models 的方法：\n",
    "        # Back-off Smoothing 或 Interpolation Smoothing\n",
    "        # 如果你選擇 Interpolation Smoothing，你可以運用已經準備好的輔助函式\n",
    "        # _get_interpolation_proba 來達到此目的\n",
    "        # YOUR CODE HERE\n",
    "        # 這邊是透過輔住函式計算平滑後的機率，這邊我們要把我有word找出再透過輔助函式計算，其中使用set計算\n",
    "        probs = []\n",
    "        words = []\n",
    "        for proba_dict in proba_dicts:\n",
    "            words += proba_dict.keys()\n",
    "        words = list(set(words))\n",
    "        probs = [(self._get_interpolation_proba(word, proba_dicts, interpolation_lambda), word) for word in words]\n",
    "        sorted_probas = sorted(probs, reverse=True)\n",
    "        \n",
    "        # END YOUR CODE\n",
    "        return sorted_probas[:top_k] if top_k > 0 else sorted_probas\n",
    "    \n",
    "    def _get_interpolation_proba(self, word, proba_dicts, interp_lambda, idx=None):\n",
    "        if idx is None:\n",
    "            idx = len(proba_dicts) - 1\n",
    "        if idx == 0:\n",
    "            return proba_dicts[idx].get(word, 0.)\n",
    "        return interp_lambda * proba_dicts[idx].get(word, 0.) + \\\n",
    "               (1 - interp_lambda) * self._get_interpolation_proba(word, proba_dicts, interp_lambda, idx=idx-1)"
   ]
  },
  {
   "cell_type": "code",
   "execution_count": 28,
   "metadata": {
    "ExecuteTime": {
     "end_time": "2021-04-10T21:40:48.028163Z",
     "start_time": "2021-04-10T21:40:48.014162Z"
    }
   },
   "outputs": [],
   "source": [
    "model = ChineseWordRecommenderV2(ngrams)"
   ]
  },
  {
   "cell_type": "code",
   "execution_count": 40,
   "metadata": {
    "ExecuteTime": {
     "end_time": "2021-04-10T21:44:28.745887Z",
     "start_time": "2021-04-10T21:44:28.678884Z"
    },
    "tags": []
   },
   "outputs": [
    {
     "data": {
      "text/plain": [
       "[(1.7336872249364213e-05, '家'),\n",
       " (5.290699545403566e-06, '院'),\n",
       " (1.502994017772679e-06, '界'),\n",
       " (1.5025083428822606e-06, '及'),\n",
       " (7.956629952599319e-07, '校'),\n",
       " (7.614313809754809e-07, '系'),\n",
       " (7.540063065015268e-07, '上'),\n",
       " (7.529960290767157e-07, '性'),\n",
       " (7.519978703952214e-07, '史'),\n",
       " (7.510346931282596e-07, '化')]"
      ]
     },
     "execution_count": 40,
     "metadata": {},
     "output_type": "execute_result"
    }
   ],
   "source": [
    "probs = model.predict_proba('資料科學', top_k=10)\n",
    "probs"
   ]
  },
  {
   "cell_type": "markdown",
   "metadata": {},
   "source": [
    "## Demo"
   ]
  },
  {
   "cell_type": "code",
   "execution_count": 30,
   "metadata": {
    "ExecuteTime": {
     "end_time": "2021-04-10T21:41:06.515683Z",
     "start_time": "2021-04-10T21:40:56.434599Z"
    },
    "tags": []
   },
   "outputs": [
    {
     "name": "stdout",
     "output_type": "stream",
     "text": [
      "Defaulting to user installation because normal site-packages is not writeable\n",
      "Requirement already satisfied: pip in c:\\users\\aband\\appdata\\roaming\\python\\python37\\site-packages (21.0.1)\n"
     ]
    },
    {
     "name": "stderr",
     "output_type": "stream",
     "text": [
      "WARNING: pip is being invoked by an old script wrapper. This will fail in a future version of pip.\n",
      "Please see https://github.com/pypa/pip/issues/5599 for advice on fixing the underlying issue.\n",
      "To avoid this problem you can invoke Python with '-m pip' instead of running pip directly.\n",
      "WARNING: pip is being invoked by an old script wrapper. This will fail in a future version of pip.\n",
      "Please see https://github.com/pypa/pip/issues/5599 for advice on fixing the underlying issue.\n",
      "To avoid this problem you can invoke Python with '-m pip' instead of running pip directly.\n"
     ]
    }
   ],
   "source": [
    "!pip install -U pip\n",
    "!pip install -q ipywidgets"
   ]
  },
  {
   "cell_type": "code",
   "execution_count": 34,
   "metadata": {
    "ExecuteTime": {
     "end_time": "2021-04-10T21:42:37.727455Z",
     "start_time": "2021-04-10T21:42:37.694464Z"
    }
   },
   "outputs": [
    {
     "data": {
      "application/vnd.jupyter.widget-view+json": {
       "model_id": "615dacf7c99e46dfb72310f6697bd9ab",
       "version_major": 2,
       "version_minor": 0
      },
      "text/plain": [
       "Label(value='')"
      ]
     },
     "metadata": {},
     "output_type": "display_data"
    },
    {
     "data": {
      "application/vnd.jupyter.widget-view+json": {
       "model_id": "3ff3667156b14ff78946d81ef7e5753d",
       "version_major": 2,
       "version_minor": 0
      },
      "text/plain": [
       "Textarea(value='')"
      ]
     },
     "metadata": {},
     "output_type": "display_data"
    }
   ],
   "source": [
    "import ipywidgets as widgets\n",
    "\n",
    "text = widgets.Textarea()\n",
    "label = widgets.Label()\n",
    "display(label, text)\n",
    "\n",
    "def func(change):\n",
    "    probs = model.predict_proba(change.new, top_k=10)\n",
    "    label.value = ' ' + '\\t'.join([word for prob, word in probs])\n",
    "\n",
    "text.observe(func, names='我')"
   ]
  },
  {
   "cell_type": "code",
   "execution_count": null,
   "metadata": {},
   "outputs": [],
   "source": []
  }
 ],
 "metadata": {
  "kernelspec": {
   "display_name": "Python 3.7.3 64-bit",
   "language": "python",
   "name": "python37364bit6893c7013b164b1189a865dcaea9fb2f"
  },
  "language_info": {
   "codemirror_mode": {
    "name": "ipython",
    "version": 3
   },
   "file_extension": ".py",
   "mimetype": "text/x-python",
   "name": "python",
   "nbconvert_exporter": "python",
   "pygments_lexer": "ipython3",
   "version": "3.7.3"
  }
 },
 "nbformat": 4,
 "nbformat_minor": 2
}
