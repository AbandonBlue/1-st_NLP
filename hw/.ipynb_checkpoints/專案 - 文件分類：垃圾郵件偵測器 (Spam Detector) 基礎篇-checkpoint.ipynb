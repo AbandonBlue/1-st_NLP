{
 "cells": [
  {
   "cell_type": "code",
   "execution_count": 16,
   "metadata": {
    "ExecuteTime": {
     "end_time": "2021-04-26T11:09:57.169241Z",
     "start_time": "2021-04-26T11:09:56.539994Z"
    }
   },
   "outputs": [
    {
     "name": "stdout",
     "output_type": "stream",
     "text": [
      "Classification rate for NB: 0.89\n",
      "Classification rate for AdaBoost: 0.92\n"
     ]
    }
   ],
   "source": [
    "# 範例\n",
    "from __future__ import print_function, division\n",
    "from builtins import range\n",
    "\n",
    "\n",
    "\n",
    "from sklearn.naive_bayes import MultinomialNB\n",
    "import pandas as pd\n",
    "import numpy as np\n",
    "\n",
    "# 註: 理論上 multinomial NB 是針對出現次數 \"counts\", 但文件上說對出現比率 \"word proportions\"也適合\n",
    "\n",
    "data = pd.read_csv('./datasets/spambase.data').values # use pandas for convenience\n",
    "np.random.shuffle(data) # shuffle each row in-place, but preserve the row\n",
    "\n",
    "X = data[:,:48]\n",
    "Y = data[:,-1]\n",
    "\n",
    "# 最後100列用作測試\n",
    "Xtrain = X[:-100,]\n",
    "Ytrain = Y[:-100,]\n",
    "Xtest = X[-100:,]\n",
    "Ytest = Y[-100:,]\n",
    "\n",
    "model = MultinomialNB()\n",
    "model.fit(Xtrain, Ytrain)\n",
    "print(\"Classification rate for NB:\", model.score(Xtest, Ytest))\n",
    "\n",
    "\n",
    "\n",
    "##### 任何 model都行，以下試試 AdaBoost! #####\n",
    "from sklearn.ensemble import AdaBoostClassifier\n",
    "\n",
    "model = AdaBoostClassifier()\n",
    "model.fit(Xtrain, Ytrain)\n",
    "print(\"Classification rate for AdaBoost:\", model.score(Xtest, Ytest))"
   ]
  },
  {
   "cell_type": "markdown",
   "metadata": {
    "ExecuteTime": {
     "end_time": "2021-04-26T10:59:58.871705Z",
     "start_time": "2021-04-26T10:59:58.850127Z"
    }
   },
   "source": [
    "## 專題說明\n",
    "- 題目：將已整理好的文件以機器學習方式分辨是否為垃圾郵件\n",
    "- 說明：輸入文件已處理過，為一D 乘 V(V=48)+1 矩陣，D 代表電郵數，V 代表選出來 (判斷是否垃圾) 的字 (特徵)，所以我們是用 48 個特徵來判斷。列中每行表達的特徵值(feature) = 出現次數 / 該電郵總字數 * 100，最後一行是標註(Label) 是否為垃圾郵件。請用 ML 方法開發出垃圾郵件偵測器並算出預測準確度\n",
    "- 延伸：可用不同 ML 分類法，可準備自己的垃圾郵件做預處理。\n",
    "- 範例程式檔名：spam_nb_垃圾郵件偵測器.py，以 Naïve Bayes 方式完成\n",
    "- 模組：sklearn, pandas, numpy\n",
    "- 輸入檔：spambase.data\n",
    "- 成績：辨識百分率\n"
   ]
  },
  {
   "cell_type": "code",
   "execution_count": 48,
   "metadata": {
    "ExecuteTime": {
     "end_time": "2021-04-26T11:42:43.851516Z",
     "start_time": "2021-04-26T11:42:43.837786Z"
    }
   },
   "outputs": [],
   "source": [
    "from sklearn.neighbors import KNeighborsClassifier\n",
    "from sklearn.ensemble import RandomForestClassifier\n",
    "from sklearn.ensemble import GradientBoostingClassifier\n",
    "from sklearn.model_selection import GridSearchCV"
   ]
  },
  {
   "cell_type": "code",
   "execution_count": 46,
   "metadata": {
    "ExecuteTime": {
     "end_time": "2021-04-26T11:41:22.323316Z",
     "start_time": "2021-04-26T11:41:22.299182Z"
    }
   },
   "outputs": [],
   "source": [
    "def get_result_grid(estimator, params, model_name, Xtrain, Ytrain, Xtest, Ytest):\n",
    "    print(model_name, '結果如下:')\n",
    "    grid = GridSearchCV(estimator, param_grid=params)\n",
    "    grid.fit(Xtrain, Ytrain)\n",
    "    print(grid.best_estimator_)\n",
    "    print(grid.best_params_)\n",
    "    print(grid.best_score_)\n",
    "\n",
    "    print(grid.score(Xtest, Ytest))\n",
    "    return grid"
   ]
  },
  {
   "cell_type": "markdown",
   "metadata": {},
   "source": [
    "#### KNN\n",
    "- distance銓重效果會比較好!"
   ]
  },
  {
   "cell_type": "code",
   "execution_count": 47,
   "metadata": {
    "ExecuteTime": {
     "end_time": "2021-04-26T11:41:48.186477Z",
     "start_time": "2021-04-26T11:41:44.494101Z"
    }
   },
   "outputs": [
    {
     "name": "stdout",
     "output_type": "stream",
     "text": [
      "KNN 結果如下:\n",
      "KNeighborsClassifier(n_neighbors=10, weights='distance')\n",
      "{'n_neighbors': 10, 'weights': 'distance'}\n",
      "0.9042222222222221\n",
      "0.93\n"
     ]
    }
   ],
   "source": [
    "knn_param = {\n",
    "    'n_neighbors': [5, 10, 15],\n",
    "    'weights': ['uniform', 'distance'],\n",
    "}\n",
    "grid_knn = get_result_grid(KNeighborsClassifier(), knn_param, 'KNN', Xtrain, Ytrain, Xtest, Ytest)"
   ]
  },
  {
   "cell_type": "markdown",
   "metadata": {},
   "source": [
    "#### 隨機森林\n",
    "- 搜尋的結果，都是default的參數表現最佳"
   ]
  },
  {
   "cell_type": "code",
   "execution_count": 49,
   "metadata": {
    "ExecuteTime": {
     "end_time": "2021-04-26T11:45:24.410935Z",
     "start_time": "2021-04-26T11:44:41.352121Z"
    }
   },
   "outputs": [
    {
     "name": "stdout",
     "output_type": "stream",
     "text": [
      "隨機森林 結果如下:\n",
      "RandomForestClassifier()\n",
      "{'max_depth': None, 'min_samples_split': 2, 'n_estimators': 100}\n",
      "0.9417777777777777\n",
      "0.94\n"
     ]
    }
   ],
   "source": [
    "rf_param = {\n",
    "    'n_estimators': [100, 150],\n",
    "    'max_depth': [None, 5, 10],\n",
    "    'min_samples_split': [2, 4]\n",
    "}\n",
    "\n",
    "grid_rf = get_result_grid(RandomForestClassifier(), rf_param, '隨機森林', Xtrain, Ytrain, Xtest, Ytest)"
   ]
  },
  {
   "cell_type": "markdown",
   "metadata": {},
   "source": [
    "#### GDBT\n",
    "- 效果最佳!但訓練時間需要比較長!\n",
    "- 發現有控制複雜度的效果較佳"
   ]
  },
  {
   "cell_type": "code",
   "execution_count": 50,
   "metadata": {
    "ExecuteTime": {
     "end_time": "2021-04-26T11:51:23.470689Z",
     "start_time": "2021-04-26T11:45:56.579171Z"
    }
   },
   "outputs": [
    {
     "name": "stdout",
     "output_type": "stream",
     "text": [
      "梯度提升樹 結果如下:\n",
      "GradientBoostingClassifier(max_depth=10, n_estimators=150)\n",
      "{'max_depth': 10, 'min_samples_split': 2, 'n_estimators': 150}\n",
      "0.9426666666666668\n",
      "0.95\n"
     ]
    }
   ],
   "source": [
    "gdbt_param = {\n",
    "    'n_estimators': [100, 150],\n",
    "    'max_depth': [None, 5, 10],\n",
    "    'min_samples_split': [2, 4]\n",
    "}\n",
    "\n",
    "grid_gdbt = get_result_grid(GradientBoostingClassifier(), gdbt_param, '梯度提升樹', Xtrain, Ytrain, Xtest, Ytest)"
   ]
  },
  {
   "cell_type": "code",
   "execution_count": null,
   "metadata": {},
   "outputs": [],
   "source": []
  }
 ],
 "metadata": {
  "kernelspec": {
   "display_name": "Python 3.7.3 64-bit",
   "language": "python",
   "name": "python37364bit6893c7013b164b1189a865dcaea9fb2f"
  },
  "language_info": {
   "codemirror_mode": {
    "name": "ipython",
    "version": 3
   },
   "file_extension": ".py",
   "mimetype": "text/x-python",
   "name": "python",
   "nbconvert_exporter": "python",
   "pygments_lexer": "ipython3",
   "version": "3.7.3"
  }
 },
 "nbformat": 4,
 "nbformat_minor": 4
}
