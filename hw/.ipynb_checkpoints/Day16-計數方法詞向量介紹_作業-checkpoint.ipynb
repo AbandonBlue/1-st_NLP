{
 "cells": [
  {
   "cell_type": "markdown",
   "metadata": {},
   "source": [
    "## 作業目標: 透過思考與回答以更加了解計數方法的詞向量"
   ]
  },
  {
   "cell_type": "markdown",
   "metadata": {},
   "source": [
    "### 請問詞庫手法會有什麼樣的優缺點？\n",
    "\n",
    "詞庫手法為創建包含大量字詞的詞庫，將相同意思字詞(同義字)或相似意思字詞(相似字)分類在相同群組。\n",
    "\n",
    "優點:\n",
    "- 相似詞容易尋找\n",
    "\n",
    "\n",
    "缺點:\n",
    "- 需要人工分類\n",
    "- 新增詞難以使用。\n",
    "- 群組之間的關係難以尋找\n",
    "- 上下文喪失。\n",
    "- 多義詞難辨認"
   ]
  },
  {
   "cell_type": "markdown",
   "metadata": {},
   "source": [
    "### 請問共現矩陣有什麼樣的優缺點？ \n",
    "\n",
    "根據分佈假說，相似的字詞會有類似的上下文，因此我們可以透過計數周圍(window)的字詞來表達特定字詞的向量。\n",
    "\n",
    "優點:\n",
    "- 有考慮上下文\n",
    "\n",
    "\n",
    "缺點:\n",
    "- 維度過大，內存會很大(同one-hot)\n",
    "- 高頻詞表現差"
   ]
  },
  {
   "cell_type": "markdown",
   "metadata": {},
   "source": [
    "### 請問為何需要對共現矩陣或PPMI進行SVD降維?\n",
    "\n",
    "- 因為維度過於龐大，需要降維、降躁。"
   ]
  },
  {
   "cell_type": "markdown",
   "metadata": {},
   "source": [
    "### 實作cosine similarity\n",
    "\n",
    "在比較兩個詞向量的相似度時可以使用cosine similarity:\n",
    "$$\n",
    "similarity(x,y) = \\frac{x \\cdot y}{||x||||y||} = \\frac{x_1y_1+...+x_ny_n}{\\sqrt{x_1^2+...+x_n^2}\\sqrt{y_1^2+...+y_n^2}}\n",
    "$$\n",
    "\n",
    "請實作cosine similarity並計算共現矩陣課程範例中you向量([0,1,0,0,0,0,0])與I([0,1,0,1,0,0,0])向量的相似度"
   ]
  },
  {
   "cell_type": "code",
   "execution_count": 1,
   "metadata": {
    "ExecuteTime": {
     "end_time": "2021-01-25T16:33:58.555047Z",
     "start_time": "2021-01-25T16:33:57.610304Z"
    }
   },
   "outputs": [
    {
     "name": "stdout",
     "output_type": "stream",
     "text": [
      "Similarity: 0.7071067811865475\n"
     ]
    }
   ],
   "source": [
    "import numpy as np\n",
    "I = np.array([0,1,0,0,0,0,0])\n",
    "You = np.array([0,1,0,1,0,0,0])\n",
    "\n",
    "def cos_similarity(x, y, eps=1e-8):\n",
    "    ### your code ###\n",
    "    fraction = 0\n",
    "    x_de, y_de = 0, 0\n",
    "    for e1, e2 in zip(x, y):\n",
    "        fraction += e1 * e2\n",
    "        x_de += e1 ** 2\n",
    "        y_de += e2 ** 2\n",
    "    \n",
    "    return fraction / ((x_de**0.5) * (y_de**0.5))\n",
    "        \n",
    "\n",
    "print(f\"Similarity: {cos_similarity(I, You)}\")"
   ]
  },
  {
   "cell_type": "code",
   "execution_count": null,
   "metadata": {},
   "outputs": [],
   "source": []
  }
 ],
 "metadata": {
  "kernelspec": {
   "display_name": "Python 3.7.3 64-bit",
   "language": "python",
   "name": "python37364bit6893c7013b164b1189a865dcaea9fb2f"
  },
  "language_info": {
   "codemirror_mode": {
    "name": "ipython",
    "version": 3
   },
   "file_extension": ".py",
   "mimetype": "text/x-python",
   "name": "python",
   "nbconvert_exporter": "python",
   "pygments_lexer": "ipython3",
   "version": "3.7.3"
  }
 },
 "nbformat": 4,
 "nbformat_minor": 2
}
