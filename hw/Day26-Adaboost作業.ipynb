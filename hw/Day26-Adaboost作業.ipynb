{
 "cells": [
  {
   "cell_type": "markdown",
   "metadata": {},
   "source": [
    "### 作業目的:了解Ensemble中的Blending與Stacking"
   ]
  },
  {
   "cell_type": "markdown",
   "metadata": {},
   "source": [
    "### Question: 請描述Blending與Stacking的差異\n",
    "\n",
    "Answer:"
   ]
  },
  {
   "cell_type": "markdown",
   "metadata": {},
   "source": [
    "#### Stacking與Blending很大一部分是很相像的，都是基於同一個想法，之前的boosting以及bagging最後的聚合都是簡單的函數；而stacking與blending是去訓練出一個聚合的函數。差別在於，訓練過程中，stacking用了k-fold方式，產生預測值，而基於那些預測值去用一個model將那些預測值當作特徵去做預測。而blending不同在於，他直接使用了holdout，先用非holdout data去訓練了一個model，用該model用hold data產生預測值，該預測值以及hold的本身特徵值去做合併成新的特徵值(所以特徵值的維度上升了)，利用這些資料去訓練一個model來產生最後的預測，這就是不同之處。"
   ]
  },
  {
   "cell_type": "code",
   "execution_count": null,
   "metadata": {},
   "outputs": [],
   "source": []
  }
 ],
 "metadata": {
  "kernelspec": {
   "display_name": "Python 3.7.3 64-bit",
   "language": "python",
   "name": "python37364bit6893c7013b164b1189a865dcaea9fb2f"
  },
  "language_info": {
   "codemirror_mode": {
    "name": "ipython",
    "version": 3
   },
   "file_extension": ".py",
   "mimetype": "text/x-python",
   "name": "python",
   "nbconvert_exporter": "python",
   "pygments_lexer": "ipython3",
   "version": "3.7.3"
  }
 },
 "nbformat": 4,
 "nbformat_minor": 2
}
