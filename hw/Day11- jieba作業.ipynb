{
 "cells": [
  {
   "cell_type": "markdown",
   "metadata": {},
   "source": [
    "## 作業目標：運用課程所學，操作字串達到預期輸出"
   ]
  },
  {
   "cell_type": "markdown",
   "metadata": {},
   "source": [
    "* 自行尋找一篇超過100字的文章\n",
    "    * 首先運用結巴斷詞，自行新增字典使得斷詞更為正確\n",
    "    * 使用jieba 完成 PoS Taggin\n",
    "    * 新增的詞也必須賦予詞性"
   ]
  },
  {
   "cell_type": "markdown",
   "metadata": {},
   "source": [
    "---"
   ]
  },
  {
   "cell_type": "code",
   "execution_count": 3,
   "metadata": {
    "ExecuteTime": {
     "end_time": "2021-01-22T11:25:42.584973Z",
     "start_time": "2021-01-22T11:25:42.580846Z"
    }
   },
   "outputs": [],
   "source": [
    "import jieba\n",
    "import jieba.posseg as pseg\n",
    "jieba.set_dictionary('./datasets/dict.txt')"
   ]
  },
  {
   "cell_type": "markdown",
   "metadata": {},
   "source": [
    "---"
   ]
  },
  {
   "cell_type": "code",
   "execution_count": 4,
   "metadata": {
    "ExecuteTime": {
     "end_time": "2021-01-22T11:25:55.373982Z",
     "start_time": "2021-01-22T11:25:55.367978Z"
    }
   },
   "outputs": [],
   "source": [
    "sentence = '''這是敘述近年來，AI 應用已無所不在，不論在新創或是傳產領域，都可能透過機器學習解決過去難以解決的問題。但目前台灣企業在 AI 導入的腳步仍然緩慢，除了人才嚴重短缺，教育資源無法即時跟上產業變異也是原因之一。因此，我們發起了「 機器學習 百日馬拉松 」教練陪跑計劃，翻轉傳統上課模式，以自主練習為主，幫助你獲得最大學習成效，搶先一步進入 AI 人工智能領域。'''"
   ]
  },
  {
   "cell_type": "code",
   "execution_count": 9,
   "metadata": {
    "ExecuteTime": {
     "end_time": "2021-01-22T11:27:50.010148Z",
     "start_time": "2021-01-22T11:27:50.003149Z"
    }
   },
   "outputs": [],
   "source": [
    "sentence = sentence.replace('，', '').replace('。', '').replace('「', '').replace('」', '')"
   ]
  },
  {
   "cell_type": "code",
   "execution_count": 11,
   "metadata": {
    "ExecuteTime": {
     "end_time": "2021-01-22T11:29:36.050767Z",
     "start_time": "2021-01-22T11:29:36.036137Z"
    }
   },
   "outputs": [
    {
     "data": {
      "text/plain": [
       "['這是',\n",
       " '敘述',\n",
       " '近年',\n",
       " '來',\n",
       " 'AI',\n",
       " ' ',\n",
       " '應用',\n",
       " '已',\n",
       " '無所不在',\n",
       " '不論',\n",
       " '在',\n",
       " '新創',\n",
       " '或是',\n",
       " '傳產',\n",
       " '領域',\n",
       " '都',\n",
       " '可能',\n",
       " '透過',\n",
       " '機器',\n",
       " '學習',\n",
       " '解決',\n",
       " '過去',\n",
       " '難以',\n",
       " '解決',\n",
       " '的',\n",
       " '問題',\n",
       " '但',\n",
       " '目前',\n",
       " '台灣',\n",
       " '企業',\n",
       " '在',\n",
       " ' ',\n",
       " 'AI',\n",
       " ' ',\n",
       " '導入',\n",
       " '的',\n",
       " '腳步',\n",
       " '仍然',\n",
       " '緩慢',\n",
       " '除了',\n",
       " '人才',\n",
       " '嚴重',\n",
       " '短缺',\n",
       " '教育',\n",
       " '資源',\n",
       " '無法',\n",
       " '即時',\n",
       " '跟上',\n",
       " '產業',\n",
       " '變異',\n",
       " '也',\n",
       " '是',\n",
       " '原因',\n",
       " '之',\n",
       " '一',\n",
       " '因此',\n",
       " '我們',\n",
       " '發起',\n",
       " '了',\n",
       " ' ',\n",
       " '機器',\n",
       " '學習',\n",
       " ' ',\n",
       " '百日',\n",
       " '馬拉松',\n",
       " ' ',\n",
       " '教練',\n",
       " '陪跑',\n",
       " '計劃',\n",
       " '翻轉',\n",
       " '傳統',\n",
       " '上課',\n",
       " '模式',\n",
       " '以',\n",
       " '自主',\n",
       " '練習',\n",
       " '為主',\n",
       " '幫助',\n",
       " '你',\n",
       " '獲得',\n",
       " '最',\n",
       " '大',\n",
       " '學習',\n",
       " '成效',\n",
       " '搶先',\n",
       " '一步',\n",
       " '進入',\n",
       " ' ',\n",
       " 'AI',\n",
       " ' ',\n",
       " '人工',\n",
       " '智能',\n",
       " '領域']"
      ]
     },
     "execution_count": 11,
     "metadata": {},
     "output_type": "execute_result"
    }
   ],
   "source": [
    "list(jieba.cut(sentence))"
   ]
  },
  {
   "cell_type": "markdown",
   "metadata": {},
   "source": [
    "## 新增字典"
   ]
  },
  {
   "cell_type": "code",
   "execution_count": 14,
   "metadata": {
    "ExecuteTime": {
     "end_time": "2021-01-22T11:32:55.994663Z",
     "start_time": "2021-01-22T11:32:55.986048Z"
    }
   },
   "outputs": [],
   "source": [
    "new_words = '機器學習\\n百日馬拉松\\n搶先一步\\n自主練習\\n陪跑計劃\\n'\n",
    "with open('./datasets/new_dict.txt', 'w', encoding='utf-8') as f:\n",
    "    f.write(new_words)"
   ]
  },
  {
   "cell_type": "code",
   "execution_count": 15,
   "metadata": {
    "ExecuteTime": {
     "end_time": "2021-01-22T11:32:56.621482Z",
     "start_time": "2021-01-22T11:32:56.616486Z"
    }
   },
   "outputs": [],
   "source": [
    "jieba.load_userdict('./datasets/new_dict.txt')"
   ]
  },
  {
   "cell_type": "code",
   "execution_count": 16,
   "metadata": {
    "ExecuteTime": {
     "end_time": "2021-01-22T11:32:58.885783Z",
     "start_time": "2021-01-22T11:32:58.876782Z"
    }
   },
   "outputs": [
    {
     "name": "stdout",
     "output_type": "stream",
     "text": [
      "output 精確模式: 這是|敘述|近年|來|AI| |應用|已|無所不在|不論|在|新創|或是|傳產|領域|都|可能|透過|機器學習|解決|過去|難以|解決|的|問題|但|目前|台灣|企業|在| |AI| |導入|的|腳步|仍然|緩慢|除了|人才|嚴重|短缺|教育|資源|無法|即時|跟上|產業|變異|也|是|原因|之|一|因此|我們|發起|了| |機器學習| |百日馬拉松| |教練|陪跑計劃|翻轉|傳統|上課|模式|以|自主練習|為主|幫助|你|獲得|最|大|學習|成效|搶先一步|進入| |AI| |人工|智能|領域\n"
     ]
    }
   ],
   "source": [
    "print(\"output 精確模式: {}\".format('|'.join(jieba.cut(sentence, cut_all=False, HMM=False))))"
   ]
  },
  {
   "cell_type": "markdown",
   "metadata": {},
   "source": [
    "## Taggin"
   ]
  },
  {
   "cell_type": "code",
   "execution_count": 19,
   "metadata": {
    "ExecuteTime": {
     "end_time": "2021-01-22T12:27:43.771856Z",
     "start_time": "2021-01-22T12:27:43.743301Z"
    }
   },
   "outputs": [
    {
     "name": "stdout",
     "output_type": "stream",
     "text": [
      "這是 x\n",
      "敘述 x\n",
      "近年 t\n",
      "來 v\n",
      "AI eng\n",
      "  x\n",
      "應用 x\n",
      "已 d\n",
      "無所不在 x\n",
      "不論 x\n",
      "在 p\n",
      "新創 x\n",
      "或是 c\n",
      "傳產 x\n",
      "領域 x\n",
      "都 d\n",
      "可能 v\n",
      "透過 x\n",
      "機器學習 x\n",
      "解決 x\n",
      "過去 x\n",
      "難以 x\n",
      "解決 x\n",
      "的 uj\n",
      "問題 x\n",
      "但 c\n",
      "目前 t\n",
      "台灣 x\n",
      "企業 x\n",
      "在 p\n",
      "  x\n",
      "AI eng\n",
      "  x\n",
      "導入 x\n",
      "的 uj\n",
      "腳步 x\n",
      "仍然 d\n",
      "緩慢 x\n",
      "除了 p\n",
      "人才 n\n",
      "嚴重 x\n",
      "短缺 a\n",
      "教育 vn\n",
      "資源 x\n",
      "無法 x\n",
      "即時 x\n",
      "跟上 f\n",
      "產業 x\n",
      "變異 x\n",
      "也 d\n",
      "是 v\n",
      "原因 n\n",
      "之一 r\n",
      "因此 c\n",
      "我們 x\n",
      "發起 x\n",
      "了 ul\n",
      "  x\n",
      "機器學習 x\n",
      "  x\n",
      "百日馬拉松 x\n",
      "  x\n",
      "教練 x\n",
      "陪跑計劃 x\n",
      "翻轉 x\n",
      "傳統 x\n",
      "上課 x\n",
      "模式 n\n",
      "以 p\n",
      "自主練習 x\n",
      "為主 x\n",
      "幫助 x\n",
      "你 r\n",
      "獲得 x\n",
      "最 d\n",
      "大 a\n",
      "學習 x\n",
      "成效 a\n",
      "搶先一步 x\n",
      "進入 x\n",
      "  x\n",
      "AI eng\n",
      "  x\n",
      "人工 n\n",
      "智能 n\n",
      "領域 x\n"
     ]
    }
   ],
   "source": [
    "import  jieba.posseg as pseg\n",
    "\n",
    "words = pseg.cut(sentence)\n",
    "for word, flag in words:\n",
    "    print(word, flag)"
   ]
  },
  {
   "cell_type": "code",
   "execution_count": null,
   "metadata": {},
   "outputs": [],
   "source": []
  }
 ],
 "metadata": {
  "kernelspec": {
   "display_name": "Python 3",
   "language": "python",
   "name": "python3"
  },
  "language_info": {
   "codemirror_mode": {
    "name": "ipython",
    "version": 3
   },
   "file_extension": ".py",
   "mimetype": "text/x-python",
   "name": "python",
   "nbconvert_exporter": "python",
   "pygments_lexer": "ipython3",
   "version": "3.7.3"
  }
 },
 "nbformat": 4,
 "nbformat_minor": 2
}
