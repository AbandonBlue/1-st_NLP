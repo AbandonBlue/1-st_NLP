{
 "cells": [
  {
   "cell_type": "markdown",
   "metadata": {},
   "source": [
    "## 思考題： 為什麼特徵獨立的假設足以讓 Naive Bayes 被稱為 Naive?\n",
    "- 因為對於參數的估計變得容易許多，原先如果沒有特徵獨立假設，需要去估計加總p(Xi|Y_normal) * p(Y_normal)\n",
    "- 而特徵獨立假設成立之後，則可以直接使用P(x1 | Y_normal) * p(x2 | Y_normal) * ...\n",
    "- 這樣非常容易去估算!!所以也被稱為Naive，因為特徵之間常常會有所關聯。"
   ]
  }
 ],
 "metadata": {
  "kernelspec": {
   "display_name": "Python 3.7.3 64-bit",
   "language": "python",
   "name": "python37364bit6893c7013b164b1189a865dcaea9fb2f"
  },
  "language_info": {
   "codemirror_mode": {
    "name": "ipython",
    "version": 3
   },
   "file_extension": ".py",
   "mimetype": "text/x-python",
   "name": "python",
   "nbconvert_exporter": "python",
   "pygments_lexer": "ipython3",
   "version": "3.7.3"
  }
 },
 "nbformat": 4,
 "nbformat_minor": 4
}
