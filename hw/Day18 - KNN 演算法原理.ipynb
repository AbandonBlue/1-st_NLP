{
 "cells": [
  {
   "cell_type": "markdown",
   "metadata": {},
   "source": [
    "思考題：監督式學習與非監督式學習個別的優缺點？\n",
    "- 監督式\n",
    "    - 優點\n",
    "        - 問題定義清楚, 目標明確，有標準答案。\n",
    "        - 標籤足夠的情況下，如果資料處理完整，且關鍵特徵都有包含的情況下，監督式會對問題的解決有很好的成果。\n",
    "    - 缺點\n",
    "        - 標籤成本高，或者不見得有那麼多標籤資料。\n",
    "- 非監督式\n",
    "    - 優點\n",
    "        - 資料多，可以訓練得更好，但通常訓練運算力消耗巨大\n",
    "    - 缺點\n",
    "        - 難以定義損失函數。\n",
    "        \n",
    "- 其他\n",
    "    - 兩者有時候目標並不相同，故要辨識該問題該用哪種是一關鍵的第一步。"
   ]
  },
  {
   "cell_type": "code",
   "execution_count": null,
   "metadata": {},
   "outputs": [],
   "source": []
  }
 ],
 "metadata": {
  "kernelspec": {
   "display_name": "Python 3.7.3 64-bit",
   "language": "python",
   "name": "python37364bit6893c7013b164b1189a865dcaea9fb2f"
  },
  "language_info": {
   "codemirror_mode": {
    "name": "ipython",
    "version": 3
   },
   "file_extension": ".py",
   "mimetype": "text/x-python",
   "name": "python",
   "nbconvert_exporter": "python",
   "pygments_lexer": "ipython3",
   "version": "3.7.3"
  }
 },
 "nbformat": 4,
 "nbformat_minor": 4
}
